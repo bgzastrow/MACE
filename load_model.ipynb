{
 "cells": [
  {
   "cell_type": "code",
   "execution_count": null,
   "metadata": {},
   "outputs": [],
   "source": [
    "import numpy             as np\n",
    "import matplotlib.pyplot as plt\n",
    "import matplotlib        as mpl\n",
    "\n",
    "\n",
    "import torch\n",
    "\n",
    "from time import time\n",
    "\n",
    "\n",
    "from matplotlib          import rcParams, rc\n",
    "rcParams.update({'figure.dpi': 200})\n",
    "mpl.rcParams.update({'font.size': 10})\n",
    "rc('font', family='serif')\n",
    "rc('text', usetex=True)\n",
    "\n",
    "\n",
    "import src.mace.CSE_0D.dataset  as ds\n",
    "import src.mace.train           as train\n",
    "import src.mace.test            as test\n",
    "import src.mace.load            as load\n",
    "import src.mace.mace            as mace\n",
    "from src.mace.loss              import Loss\n",
    "import src.mace.utils           as utils\n",
    "\n",
    "\n",
    "def temp(Tstar, eps, r):\n",
    "    Rstar = 2e13\n",
    "    # r = 1e16\n",
    "    T = Tstar * (r/Rstar)**(-eps)\n",
    "    return T\n",
    "\n",
    "\n",
    "\n",
    "dt_fracts = {4 : 0.296, 5: 0.269,8: 0.221,10: 0.175,12: 0.146,16: 0.117,20: 0.09,25: 0.078,32: 0.062,48: 0.043,64: 0.033,128: 0.017}\n",
    "\n",
    "\n",
    "%reload_ext autoreload\n",
    "%autoreload 2"
   ]
  },
  {
   "cell_type": "markdown",
   "metadata": {},
   "source": []
  }
 ],
 "metadata": {
  "language_info": {
   "name": "python"
  }
 },
 "nbformat": 4,
 "nbformat_minor": 2
}
