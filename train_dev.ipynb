{
 "cells": [
  {
   "cell_type": "code",
   "execution_count": 1,
   "metadata": {},
   "outputs": [],
   "source": [
    "import numpy             as np\n",
    "import matplotlib.pyplot as plt\n",
    "import matplotlib        as mpl\n",
    "import sys\n",
    "import tqdm\n",
    "\n",
    "import torch\n",
    "import torch.nn          as nn\n",
    "from torch.utils.data    import Dataset, DataLoader\n",
    "from torch.optim         import Adam\n",
    "\n",
    "from matplotlib          import rcParams, rc\n",
    "rcParams.update({'figure.dpi': 200})\n",
    "mpl.rcParams.update({'font.size': 8})\n",
    "plt.rcParams['figure.dpi'] = 150\n",
    "\n",
    "\n",
    "## import own functions\n",
    "sys.path.insert(1, '/lhome/silkem/MACE/MACE/src/mace')\n",
    "import autoencoder  as ae\n",
    "import dataset      as ds\n",
    "import plotting     as pl\n",
    "import train        as tr\n",
    "import neuralODE    as nODE"
   ]
  },
  {
   "cell_type": "code",
   "execution_count": 2,
   "metadata": {},
   "outputs": [],
   "source": [
    "## Set up PyTorch \n",
    "cuda   = False\n",
    "DEVICE = torch.device(\"cuda\" if cuda else \"cpu\")\n",
    "batch_size = 1 ## if not 1, dan kan er geen tensor van gemaakt worden\n",
    "epochs = 1\n",
    "lr = 0.01\n",
    "\n",
    "kwargs = {'num_workers': 1, 'pin_memory': True} "
   ]
  },
  {
   "cell_type": "code",
   "execution_count": 3,
   "metadata": {},
   "outputs": [
    {
     "name": "stdout",
     "output_type": "stream",
     "text": [
      "Dataset:\n",
      "------------------------------\n",
      "total # of samples: 6626\n",
      "# training samples: 4638\n",
      "# testing samples:  1988\n",
      "            ratio:  0.3\n"
     ]
    }
   ],
   "source": [
    "dirname = 'easy-mace2'\n",
    "\n",
    "train, data_loader, test_loader = ds.get_data(dirname = dirname, batch_size=batch_size, kwargs=kwargs, plot = True, scale = None)"
   ]
  },
  {
   "cell_type": "code",
   "execution_count": 4,
   "metadata": {},
   "outputs": [],
   "source": [
    "enc = ae.Encoder( 466, 100, 10)\n",
    "dec = ae.Decoder(10,100,466)\n",
    "\n",
    "i = 7\n",
    "n_test = train[i][0]\n",
    "n_0=torch.from_numpy(n_test[:,0])\n",
    "p = torch.from_numpy(train[i][1])\n",
    "t=torch.from_numpy(train[i][2])"
   ]
  },
  {
   "cell_type": "code",
   "execution_count": 5,
   "metadata": {},
   "outputs": [
    {
     "data": {
      "text/plain": [
       "torch.Size([15])"
      ]
     },
     "execution_count": 5,
     "metadata": {},
     "output_type": "execute_result"
    }
   ],
   "source": [
    "t.shape"
   ]
  },
  {
   "cell_type": "code",
   "execution_count": 6,
   "metadata": {},
   "outputs": [
    {
     "data": {
      "text/plain": [
       "tensor([ 0.1103, -0.4419,  1.3435,  0.9206,  1.6525,  1.0866,  0.7849, -0.1710,\n",
       "         2.3710,  1.8667], grad_fn=<LeakyReluBackward0>)"
      ]
     },
     "execution_count": 6,
     "metadata": {},
     "output_type": "execute_result"
    }
   ],
   "source": [
    "z_0= enc(n_0)\n",
    "\n",
    "z_0"
   ]
  },
  {
   "cell_type": "code",
   "execution_count": 7,
   "metadata": {},
   "outputs": [
    {
     "name": "stdout",
     "output_type": "stream",
     "text": [
      "tensor([[3.0253, 2.2384, 2.8218, 3.4053, 3.5320, 1.2202, 1.2751, 1.3999, 1.3583,\n",
      "         2.5273]], grad_fn=<AddBackward0>)\n"
     ]
    }
   ],
   "source": [
    "g = nODE.G(4,10)\n",
    "z=z_0.view(1,10)\n",
    "g_fun = nODE.G.forward(g,t,z,p)\n",
    "print(g_fun)"
   ]
  },
  {
   "cell_type": "code",
   "execution_count": 4,
   "metadata": {},
   "outputs": [],
   "source": [
    "model = nODE.Solver(p_dim=4,z_dim = 10, n_dim=466)"
   ]
  },
  {
   "cell_type": "code",
   "execution_count": 5,
   "metadata": {},
   "outputs": [
    {
     "name": "stdout",
     "output_type": "stream",
     "text": [
      "Model:         \n",
      "learning rate: 0.01\n",
      "\n",
      ">>> Training model...\n",
      "\tbatch 4638 / 4638 , # nan 4636\n",
      "\t\t# nan: 4637 / 4638\n",
      "\tbatch 1 / 1988\n",
      "Epoch 1 complete! \tAverage loss train:  nan \tAverage loss test:  nan\n",
      " \tDONE!\n",
      "\n",
      ">>> Testing model...\n",
      "\tbatch 1988 / 1988 , # nan 1987\n",
      "Test loss: nan\n"
     ]
    }
   ],
   "source": [
    "## Training & validating model\n",
    "\n",
    "loss_train_all, loss_test_all = tr.train(model, lr, data_loader, test_loader, epochs, DEVICE)\n",
    "n_test, n_test_hat, loss = tr.test(model, test_loader, DEVICE)"
   ]
  },
  {
   "cell_type": "code",
   "execution_count": 9,
   "metadata": {},
   "outputs": [
    {
     "data": {
      "text/plain": [
       "tensor([[[ 9.8833e-02, -2.8906e-02,  1.3113e-01,  ..., -1.2936e-02,\n",
       "           1.6915e-03, -1.2189e-02],\n",
       "         [ 9.8330e-02, -2.9701e-02,  1.4128e-01,  ..., -1.3061e-02,\n",
       "          -3.4806e-04, -1.3009e-02],\n",
       "         [ 8.4362e-02, -3.0935e-02,  1.5642e-01,  ..., -1.3803e-02,\n",
       "          -2.8652e-03, -1.4571e-02],\n",
       "         ...,\n",
       "         [ 3.1912e+31, -1.2083e+30,  1.6512e+31,  ...,  3.2018e+31,\n",
       "          -5.4945e+30, -3.3700e+30],\n",
       "         [-4.9260e+30,  1.3048e+31, -4.8908e+30,  ...,  2.1291e+31,\n",
       "          -2.7734e+30,  3.1760e+30],\n",
       "         [-7.0813e+30,  5.2350e+30, -3.3697e+29,  ..., -2.2977e+30,\n",
       "          -6.3154e+30, -2.0612e+30]]], grad_fn=<ReshapeAliasBackward0>)"
      ]
     },
     "execution_count": 9,
     "metadata": {},
     "output_type": "execute_result"
    }
   ],
   "source": [
    "n_s = model(n_0, p, t.view(1,-1))\n",
    "n_s"
   ]
  },
  {
   "cell_type": "code",
   "execution_count": 13,
   "metadata": {},
   "outputs": [
    {
     "data": {
      "text/plain": [
       "45"
      ]
     },
     "execution_count": 13,
     "metadata": {},
     "output_type": "execute_result"
    }
   ],
   "source": [
    "4638-4593\n"
   ]
  },
  {
   "cell_type": "code",
   "execution_count": 11,
   "metadata": {},
   "outputs": [
    {
     "name": "stdout",
     "output_type": "stream",
     "text": [
      "tensor([nan, nan, nan, nan, nan, nan, nan, nan, nan, nan, nan, nan, nan, nan, nan, nan, nan, nan, nan, nan, nan, nan, nan, nan,\n",
      "        nan, nan, nan, nan, nan, nan, nan, nan, nan, nan, nan, nan, nan, nan, nan, nan, nan, nan, nan, nan, nan, nan, nan, nan,\n",
      "        nan, nan, nan, nan, nan, nan, nan, nan, nan, nan, nan, nan, nan, nan, nan, nan, nan, nan, nan, nan, nan, nan, nan, nan,\n",
      "        nan, nan, nan, nan, nan, nan, nan, nan, nan, nan, nan, nan, nan, nan, nan, nan, nan, nan, nan, nan, nan, nan, nan, nan,\n",
      "        nan, nan, nan, nan, nan, nan, nan, nan, nan, nan, nan, nan, nan, nan, nan, nan, nan, nan, nan, nan, nan, nan, nan, nan,\n",
      "        nan, nan, nan, nan, nan, nan, nan, nan, nan, nan, nan, nan, nan, nan, nan, nan, nan, nan, nan, nan, nan, nan, nan, nan,\n",
      "        nan, nan, nan, nan, nan, nan, nan, nan, nan, nan, nan, nan, nan, nan, nan, nan, nan, nan, nan, nan, nan, nan, nan, nan,\n",
      "        nan, nan, nan, nan, nan, nan, nan, nan, nan, nan, nan, nan, nan, nan, nan, nan, nan, nan, nan, nan, nan, nan, nan, nan,\n",
      "        nan, nan, nan, nan, nan, nan, nan, nan, nan, nan, nan, nan, nan, nan, nan, nan, nan, nan, nan, nan, nan, nan, nan, nan,\n",
      "        nan, nan, nan, nan, nan, nan, nan, nan, nan, nan, nan, nan, nan, nan, nan, nan, nan, nan, nan, nan, nan, nan, nan, nan,\n",
      "        nan, nan, nan, nan, nan, nan, nan, nan, nan, nan, nan, nan, nan, nan, nan, nan, nan, nan, nan, nan, nan, nan, nan, nan,\n",
      "        nan, nan, nan, nan, nan, nan, nan, nan, nan, nan, nan, nan, nan, nan, nan, nan, nan, nan, nan, nan, nan, nan, nan, nan,\n",
      "        nan, nan, nan, nan, nan, nan, nan, nan, nan, nan, nan, nan, nan, nan, nan, nan, nan, nan, nan, nan, nan, nan, nan, nan,\n",
      "        nan, nan, nan, nan, nan, nan, nan, nan, nan, nan, nan, nan, nan, nan, nan, nan, nan, nan, nan, nan, nan, nan, nan, nan,\n",
      "        nan, nan, nan, nan, nan, nan, nan, nan, nan, nan, nan, nan, nan, nan, nan, nan, nan, nan, nan, nan, nan, nan, nan, nan,\n",
      "        nan, nan, nan, nan, nan, nan, nan, nan, nan, nan, nan, nan, nan, nan, nan, nan, nan, nan, nan, nan, nan, nan, nan, nan,\n",
      "        nan, nan, nan, nan, nan, nan, nan, nan, nan, nan, nan, nan, nan, nan, nan, nan, nan, nan, nan, nan, nan, nan, nan, nan,\n",
      "        nan, nan, nan, nan, nan, nan, nan, nan, nan, nan, nan, nan, nan, nan, nan, nan, nan, nan, nan, nan, nan, nan, nan, nan,\n",
      "        nan, nan, nan, nan, nan, nan, nan, nan, nan, nan, nan, nan, nan, nan, nan, nan, nan, nan, nan, nan, nan, nan, nan, nan,\n",
      "        nan, nan, nan, nan, nan, nan, nan, nan, nan, nan])\n",
      "tensor([ -6.8876, -12.9727, -14.7923, -15.0945, -12.0671,  -1.0706, -13.0193,\n",
      "        -16.9262, -20.0000, -14.2305, -12.4426, -20.0000, -15.9753, -13.7864,\n",
      "        -16.0991, -17.3920, -12.2748, -14.3611, -11.0177, -14.4287, -17.5822,\n",
      "        -12.1629, -19.1119, -16.9060, -16.5705, -20.0000, -13.5125, -13.0549,\n",
      "         -5.7564, -15.7007, -11.4242, -18.8183, -13.3384, -15.0350,  -7.5209,\n",
      "        -12.4114,  -5.8937, -17.9264, -18.7961, -11.7347, -20.0000,  -8.0706,\n",
      "        -20.0000, -15.0232, -20.0000, -20.0000, -20.0000, -17.2124, -20.0000,\n",
      "        -20.0000, -10.0281, -14.5081, -17.0237, -13.1519, -12.6540,  -4.6596,\n",
      "        -13.8857, -14.3968, -17.7408,  -4.6893, -15.4410,  -9.8032, -16.4004,\n",
      "        -13.8763,  -4.6990, -12.5869, -13.0286, -17.7980, -17.5219, -17.9121,\n",
      "         -9.6253,  -3.3979, -17.4932,  -7.4654, -10.1252, -12.9008, -15.2842,\n",
      "        -15.9469, -10.8498, -16.4903, -20.0000, -18.4530, -14.7445, -13.1040,\n",
      "        -20.0000, -20.0000, -20.0000, -17.8948, -16.2377, -15.6945, -18.1459,\n",
      "        -20.0000, -17.6159, -17.1127, -16.9023, -17.3088, -17.9567, -20.0000,\n",
      "        -20.0000, -19.0739, -17.4328, -20.0000, -20.0000, -18.7737, -20.0000,\n",
      "        -16.4260, -14.7880, -20.0000, -19.6920, -20.0000, -20.0000, -20.0000,\n",
      "        -20.0000, -20.0000, -20.0000, -15.5568, -16.3824, -19.9459, -20.0000,\n",
      "        -11.7252, -16.3264, -20.0000, -20.0000, -20.0000, -20.0000, -17.3075,\n",
      "         -8.6829, -20.0000, -13.2834, -13.5957, -19.4137, -20.0000,  -6.7891,\n",
      "        -20.0000, -12.0685, -18.0468, -14.3849, -20.0000, -16.0851, -12.0685,\n",
      "        -20.0000, -18.2406, -17.2384, -13.3035, -14.4226, -12.9129, -17.1103,\n",
      "        -13.0506, -12.3951, -12.4035, -12.0428, -16.8273, -19.7655, -20.0000,\n",
      "        -13.8619, -20.0000, -20.0000, -15.6574, -16.5143, -11.9259, -17.0987,\n",
      "        -19.7641, -20.0000, -17.9970, -15.4141, -19.7104, -19.4533, -12.0220,\n",
      "        -18.4094, -18.4759, -20.0000, -15.3811, -16.8802, -20.0000, -18.0733,\n",
      "        -13.7650, -20.0000, -13.6940, -20.0000, -20.0000, -20.0000, -20.0000,\n",
      "        -20.0000, -18.0107, -20.0000, -12.5247, -15.1041, -20.0000, -20.0000,\n",
      "        -20.0000, -20.0000, -16.4034, -20.0000, -20.0000, -20.0000, -16.5929,\n",
      "        -17.8594, -20.0000,  -5.2757, -18.0058, -20.0000, -17.3355, -17.0341,\n",
      "        -16.5667,  -7.9031, -17.1127, -19.7316,  -5.6004, -17.8594, -20.0000,\n",
      "        -20.0000, -17.3348, -20.0000, -13.0957, -16.1924, -11.3482, -10.5784,\n",
      "        -20.0000, -20.0000, -18.8455, -14.3290, -20.0000, -19.2552, -20.0000,\n",
      "        -20.0000, -18.6685, -18.6655, -20.0000, -20.0000, -20.0000, -20.0000,\n",
      "        -20.0000, -18.3833, -20.0000, -20.0000, -20.0000, -20.0000, -20.0000,\n",
      "        -20.0000, -20.0000, -20.0000, -16.6047, -20.0000, -20.0000, -16.6733,\n",
      "        -20.0000, -16.9676, -20.0000, -20.0000, -17.0856, -20.0000, -20.0000,\n",
      "        -20.0000, -20.0000, -19.3136, -20.0000, -17.3174, -17.3386, -20.0000,\n",
      "        -20.0000, -20.0000, -20.0000, -18.0706, -20.0000, -12.1347, -20.0000,\n",
      "        -20.0000, -12.4094, -12.2587, -13.4749, -20.0000, -18.8759, -19.2494,\n",
      "        -14.7936, -13.6158, -20.0000, -20.0000, -10.2748, -17.2540, -20.0000,\n",
      "        -20.0000,  -5.0292, -17.8815, -18.5496, -13.3465, -18.1556, -20.0000,\n",
      "        -20.0000, -19.6128, -13.5833, -11.3465, -15.5641, -20.0000, -11.6512,\n",
      "        -19.0096, -15.8235, -20.0000, -20.0000, -18.6242, -13.9296, -16.0076,\n",
      "        -20.0000, -20.0000, -20.0000, -20.0000, -15.3815, -17.9250, -16.8582,\n",
      "        -17.0468, -20.0000, -17.1812, -20.0000, -20.0000, -19.1530, -20.0000,\n",
      "        -20.0000, -15.7320, -20.0000, -20.0000, -20.0000, -20.0000, -20.0000,\n",
      "        -19.1454, -20.0000, -20.0000, -19.8850, -17.6610, -14.8678, -20.0000,\n",
      "        -14.3125, -12.6138,  -5.5243, -20.0000, -20.0000, -19.1776, -11.9347,\n",
      "        -17.8853, -20.0000, -16.9278, -20.0000, -20.0000, -16.3071, -20.0000,\n",
      "        -15.1883, -20.0000, -20.0000, -13.6489, -15.9183, -20.0000, -19.9995,\n",
      "        -19.1890, -14.5572, -20.0000, -17.8258, -20.0000, -20.0000, -20.0000,\n",
      "        -20.0000, -18.5972, -20.0000, -20.0000, -20.0000, -20.0000, -12.2399,\n",
      "        -18.3259, -20.0000, -18.5971, -20.0000, -20.0000, -20.0000, -20.0000,\n",
      "        -20.0000, -14.9411, -20.0000, -20.0000, -20.0000, -20.0000, -20.0000,\n",
      "        -15.5539, -20.0000, -19.9654, -14.4803, -18.7979, -19.9850, -20.0000,\n",
      "        -20.0000, -20.0000, -18.9248, -14.9162, -18.4649, -12.7613, -15.7235,\n",
      "        -17.8258, -20.0000, -13.9332, -14.1110, -15.0973, -20.0000, -20.0000,\n",
      "        -11.6356, -20.0000, -20.0000, -20.0000, -20.0000, -19.2052, -20.0000,\n",
      "        -20.0000, -20.0000, -20.0000, -20.0000, -20.0000, -20.0000, -20.0000,\n",
      "        -18.5658, -18.9219, -20.0000, -20.0000, -19.1059, -20.0000, -20.0000,\n",
      "        -19.7187, -20.0000, -19.6919, -20.0000, -20.0000, -20.0000, -18.1277,\n",
      "        -20.0000, -16.9270, -18.1357, -20.0000, -19.1126, -20.0000, -15.4849,\n",
      "        -20.0000, -20.0000, -20.0000, -20.0000, -20.0000, -20.0000, -20.0000,\n",
      "        -20.0000, -20.0000, -20.0000, -20.0000, -18.6355, -20.0000, -20.0000,\n",
      "        -20.0000, -20.0000, -20.0000, -20.0000, -20.0000, -20.0000, -20.0000,\n",
      "        -19.4114, -20.0000, -20.0000, -20.0000, -20.0000, -20.0000, -19.4246,\n",
      "        -16.7208, -20.0000, -20.0000, -20.0000])\n"
     ]
    },
    {
     "data": {
      "image/png": "[encoded data removed]",
      "text/plain": [
       "<Figure size 960x720 with 1 Axes>"
      ]
     },
     "metadata": {},
     "output_type": "display_data"
    }
   ],
   "source": [
    "i = 0\n",
    "x = np.linspace(-20,0,100)\n",
    "print(n_test_hat[0][i])\n",
    "print(n_test[0][i])\n",
    "plt.plot(n_test[0][i],n_test_hat[0][i], 'o')\n",
    "plt.plot(x,x,c='k')\n",
    "\n",
    "plt.xlabel('real')\n",
    "plt.ylabel('predicted')\n",
    "plt.show()"
   ]
  },
  {
   "cell_type": "code",
   "execution_count": 12,
   "metadata": {},
   "outputs": [
    {
     "data": {
      "text/plain": [
       "tensor([0.5726, 0.3669])"
      ]
     },
     "execution_count": 12,
     "metadata": {},
     "output_type": "execute_result"
    }
   ],
   "source": [
    "A = torch.rand(2,2).ravel()\n",
    "B = torch.rand(2,2,2).ravel()\n",
    "# print(A)\n",
    "\n",
    "A = A.reshape(2,2)\n",
    "B = B.reshape(2,2,2)\n",
    "\n",
    "z = torch.rand(2)\n",
    "\n",
    "\n",
    "torch.einsum(\"ij, j -> i\", A, z) + torch.einsum(\"ijk, j, k -> i\", B, z, z)"
   ]
  }
 ],
 "metadata": {
  "kernelspec": {
   "display_name": "mace",
   "language": "python",
   "name": "python3"
  },
  "language_info": {
   "codemirror_mode": {
    "name": "ipython",
    "version": 3
   },
   "file_extension": ".py",
   "mimetype": "text/x-python",
   "name": "python",
   "nbconvert_exporter": "python",
   "pygments_lexer": "ipython3",
   "version": "3.9.16"
  },
  "orig_nbformat": 4
 },
 "nbformat": 4,
 "nbformat_minor": 2
}
