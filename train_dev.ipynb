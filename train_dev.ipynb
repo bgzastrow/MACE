{
 "cells": [
  {
   "cell_type": "code",
   "execution_count": 1,
   "metadata": {},
   "outputs": [],
   "source": [
    "import numpy             as np\n",
    "import matplotlib.pyplot as plt\n",
    "import matplotlib        as mpl\n",
    "import sys\n",
    "# import tqdm\n",
    "import torch\n",
    "\n",
    "from torch.utils.tensorboard import SummaryWriter\n",
    "\n",
    "from matplotlib          import rcParams\n",
    "rcParams.update({'figure.dpi': 200})\n",
    "mpl.rcParams.update({'font.size': 8})\n",
    "plt.rcParams['figure.dpi'] = 150\n",
    "\n",
    "## import own functions\n",
    "sys.path.insert(1, '/lhome/silkem/MACE/MACE/src/mace')\n",
    "import autoencoder  as ae\n",
    "import dataset      as ds\n",
    "import train        as tr\n",
    "import neuralODE    as nODE"
   ]
  },
  {
   "cell_type": "code",
   "execution_count": 2,
   "metadata": {},
   "outputs": [],
   "source": [
    "## Set up PyTorch \n",
    "cuda   = False\n",
    "DEVICE = torch.device(\"cuda\" if cuda else \"cpu\")\n",
    "batch_size = 1 ## if not 1, dan kan er geen tensor van gemaakt worden\n",
    "epochs = 1\n",
    "lr = 0.01\n",
    "\n",
    "kwargs = {'num_workers': 1, 'pin_memory': True} "
   ]
  },
  {
   "cell_type": "code",
   "execution_count": 3,
   "metadata": {},
   "outputs": [
    {
     "name": "stdout",
     "output_type": "stream",
     "text": [
      "Dataset:\n",
      "------------------------------\n",
      "total # of samples: 6626\n",
      "# training samples: 4638\n",
      "# testing samples:  1988\n",
      "            ratio:  0.3\n"
     ]
    }
   ],
   "source": [
    "dirname = 'easy-mace2'\n",
    "writer = SummaryWriter('runs/'+dirname)\n",
    "\n",
    "train, data_loader, test_loader = ds.get_data(dirname = dirname, batch_size=batch_size, kwargs=kwargs, plot = True, scale = None)"
   ]
  },
  {
   "cell_type": "code",
   "execution_count": 4,
   "metadata": {},
   "outputs": [
    {
     "data": {
      "text/plain": [
       "(torch.Size([1, 466, 12]), 'torch.FloatTensor', torch.Size([1, 12]))"
      ]
     },
     "execution_count": 4,
     "metadata": {},
     "output_type": "execute_result"
    }
   ],
   "source": [
    "n_ex, p_ex, t_ex = next(iter(data_loader))\n",
    "n_ex.shape, p_ex.type(), t_ex.shape\n",
    "# n_ex"
   ]
  },
  {
   "cell_type": "code",
   "execution_count": 5,
   "metadata": {},
   "outputs": [
    {
     "name": "stdout",
     "output_type": "stream",
     "text": [
      "\n",
      "\n",
      "forward(__torch__.neuralODE.___torch_mangle_30.G self, Tensor z, Tensor p) -> Tensor:\n",
      "Expected at most 3 arguments but found 4 positional arguments.\n",
      ":\n",
      "  File \"/lhome/silkem/anaconda3/envs/mace/lib/python3.10/site-packages/torchode/terms.py\", line 61\n",
      "    \n",
      "        if self.with_args:\n",
      "            return self.f(t, y, args)\n",
      "                   ~~~~~~ <--- HERE\n",
      "        else:\n",
      "            return self.f(t, y)\n",
      "'ODETerm.vf' is being compiled since it was called from 'Dopri5.init'\n",
      "  File \"/lhome/silkem/anaconda3/envs/mace/lib/python3.10/site-packages/torchode/single_step_methods/runge_kutta.py\", line 200\n",
      "    \n",
      "            if f0 is None:\n",
      "                prev_vf1 = term_.vf(problem.t_start, problem.y0, stats, args)\n",
      "                ~~~~~~~~~~~~~~~~~~~~~~~~~~~~~~~~~~~~~~~~~~~~~~~~~~~~~~~~~~~~ <--- HERE\n",
      "            else:\n",
      "                prev_vf1 = f0\n",
      "\n",
      "Error occurs, No graph saved\n"
     ]
    },
    {
     "ename": "RuntimeError",
     "evalue": "\n\nforward(__torch__.neuralODE.___torch_mangle_30.G self, Tensor z, Tensor p) -> Tensor:\nExpected at most 3 arguments but found 4 positional arguments.\n:\n  File \"/lhome/silkem/anaconda3/envs/mace/lib/python3.10/site-packages/torchode/terms.py\", line 61\n    \n        if self.with_args:\n            return self.f(t, y, args)\n                   ~~~~~~ <--- HERE\n        else:\n            return self.f(t, y)\n'ODETerm.vf' is being compiled since it was called from 'Dopri5.init'\n  File \"/lhome/silkem/anaconda3/envs/mace/lib/python3.10/site-packages/torchode/single_step_methods/runge_kutta.py\", line 200\n    \n            if f0 is None:\n                prev_vf1 = term_.vf(problem.t_start, problem.y0, stats, args)\n                ~~~~~~~~~~~~~~~~~~~~~~~~~~~~~~~~~~~~~~~~~~~~~~~~~~~~~~~~~~~~ <--- HERE\n            else:\n                prev_vf1 = f0\n",
     "output_type": "error",
     "traceback": [
      "\u001b[0;31m---------------------------------------------------------------------------\u001b[0m",
      "\u001b[0;31mRuntimeError\u001b[0m                              Traceback (most recent call last)",
      "Cell \u001b[0;32mIn[5], line 2\u001b[0m\n\u001b[1;32m      1\u001b[0m model \u001b[39m=\u001b[39m nODE\u001b[39m.\u001b[39mSolver(p_dim\u001b[39m=\u001b[39m\u001b[39m4\u001b[39m,z_dim \u001b[39m=\u001b[39m \u001b[39m10\u001b[39m, n_dim\u001b[39m=\u001b[39m\u001b[39m466\u001b[39m, DEVICE \u001b[39m=\u001b[39m DEVICE)\n\u001b[0;32m----> 2\u001b[0m writer\u001b[39m.\u001b[39;49madd_graph(model, n_ex)\n\u001b[1;32m      3\u001b[0m \u001b[39m# writer.flush()\u001b[39;00m\n\u001b[1;32m      4\u001b[0m \u001b[39m# model\u001b[39;00m\n\u001b[1;32m      5\u001b[0m \u001b[39m# n_ex.shape\u001b[39;00m\n",
      "File \u001b[0;32m~/anaconda3/envs/mace/lib/python3.10/site-packages/torch/utils/tensorboard/writer.py:841\u001b[0m, in \u001b[0;36mSummaryWriter.add_graph\u001b[0;34m(self, model, input_to_model, verbose, use_strict_trace)\u001b[0m\n\u001b[1;32m    837\u001b[0m torch\u001b[39m.\u001b[39m_C\u001b[39m.\u001b[39m_log_api_usage_once(\u001b[39m\"\u001b[39m\u001b[39mtensorboard.logging.add_graph\u001b[39m\u001b[39m\"\u001b[39m)\n\u001b[1;32m    838\u001b[0m \u001b[39mif\u001b[39;00m \u001b[39mhasattr\u001b[39m(model, \u001b[39m\"\u001b[39m\u001b[39mforward\u001b[39m\u001b[39m\"\u001b[39m):\n\u001b[1;32m    839\u001b[0m     \u001b[39m# A valid PyTorch model should have a 'forward' method\u001b[39;00m\n\u001b[1;32m    840\u001b[0m     \u001b[39mself\u001b[39m\u001b[39m.\u001b[39m_get_file_writer()\u001b[39m.\u001b[39madd_graph(\n\u001b[0;32m--> 841\u001b[0m         graph(model, input_to_model, verbose, use_strict_trace)\n\u001b[1;32m    842\u001b[0m     )\n\u001b[1;32m    843\u001b[0m \u001b[39melse\u001b[39;00m:\n\u001b[1;32m    844\u001b[0m     \u001b[39m# Caffe2 models do not have the 'forward' method\u001b[39;00m\n\u001b[1;32m    845\u001b[0m     \u001b[39mfrom\u001b[39;00m \u001b[39mcaffe2\u001b[39;00m\u001b[39m.\u001b[39;00m\u001b[39mproto\u001b[39;00m \u001b[39mimport\u001b[39;00m caffe2_pb2\n",
      "File \u001b[0;32m~/anaconda3/envs/mace/lib/python3.10/site-packages/torch/utils/tensorboard/_pytorch_graph.py:343\u001b[0m, in \u001b[0;36mgraph\u001b[0;34m(model, args, verbose, use_strict_trace)\u001b[0m\n\u001b[1;32m    341\u001b[0m         \u001b[39mprint\u001b[39m(e)\n\u001b[1;32m    342\u001b[0m         \u001b[39mprint\u001b[39m(\u001b[39m\"\u001b[39m\u001b[39mError occurs, No graph saved\u001b[39m\u001b[39m\"\u001b[39m)\n\u001b[0;32m--> 343\u001b[0m         \u001b[39mraise\u001b[39;00m e\n\u001b[1;32m    345\u001b[0m \u001b[39mif\u001b[39;00m verbose:\n\u001b[1;32m    346\u001b[0m     \u001b[39mprint\u001b[39m(graph)\n",
      "File \u001b[0;32m~/anaconda3/envs/mace/lib/python3.10/site-packages/torch/utils/tensorboard/_pytorch_graph.py:337\u001b[0m, in \u001b[0;36mgraph\u001b[0;34m(model, args, verbose, use_strict_trace)\u001b[0m\n\u001b[1;32m    335\u001b[0m \u001b[39mwith\u001b[39;00m _set_model_to_eval(model):\n\u001b[1;32m    336\u001b[0m     \u001b[39mtry\u001b[39;00m:\n\u001b[0;32m--> 337\u001b[0m         trace \u001b[39m=\u001b[39m torch\u001b[39m.\u001b[39;49mjit\u001b[39m.\u001b[39;49mtrace(model, args, strict\u001b[39m=\u001b[39;49muse_strict_trace)\n\u001b[1;32m    338\u001b[0m         graph \u001b[39m=\u001b[39m trace\u001b[39m.\u001b[39mgraph\n\u001b[1;32m    339\u001b[0m         torch\u001b[39m.\u001b[39m_C\u001b[39m.\u001b[39m_jit_pass_inline(graph)\n",
      "File \u001b[0;32m~/anaconda3/envs/mace/lib/python3.10/site-packages/torch/_dynamo/eval_frame.py:209\u001b[0m, in \u001b[0;36m_TorchDynamoContext.__call__.<locals>._fn\u001b[0;34m(*args, **kwargs)\u001b[0m\n\u001b[1;32m    207\u001b[0m dynamic_ctx\u001b[39m.\u001b[39m\u001b[39m__enter__\u001b[39m()\n\u001b[1;32m    208\u001b[0m \u001b[39mtry\u001b[39;00m:\n\u001b[0;32m--> 209\u001b[0m     \u001b[39mreturn\u001b[39;00m fn(\u001b[39m*\u001b[39;49margs, \u001b[39m*\u001b[39;49m\u001b[39m*\u001b[39;49mkwargs)\n\u001b[1;32m    210\u001b[0m \u001b[39mfinally\u001b[39;00m:\n\u001b[1;32m    211\u001b[0m     set_eval_frame(prior)\n",
      "File \u001b[0;32m~/anaconda3/envs/mace/lib/python3.10/site-packages/torch/jit/_trace.py:794\u001b[0m, in \u001b[0;36mtrace\u001b[0;34m(func, example_inputs, optimize, check_trace, check_inputs, check_tolerance, strict, _force_outplace, _module_class, _compilation_unit, example_kwarg_inputs, _store_inputs)\u001b[0m\n\u001b[1;32m    792\u001b[0m         \u001b[39melse\u001b[39;00m:\n\u001b[1;32m    793\u001b[0m             \u001b[39mraise\u001b[39;00m \u001b[39mRuntimeError\u001b[39;00m(\u001b[39m\"\u001b[39m\u001b[39mexample_kwarg_inputs should be a dict\u001b[39m\u001b[39m\"\u001b[39m)\n\u001b[0;32m--> 794\u001b[0m     \u001b[39mreturn\u001b[39;00m trace_module(\n\u001b[1;32m    795\u001b[0m         func,\n\u001b[1;32m    796\u001b[0m         {\u001b[39m\"\u001b[39;49m\u001b[39mforward\u001b[39;49m\u001b[39m\"\u001b[39;49m: example_inputs},\n\u001b[1;32m    797\u001b[0m         \u001b[39mNone\u001b[39;49;00m,\n\u001b[1;32m    798\u001b[0m         check_trace,\n\u001b[1;32m    799\u001b[0m         wrap_check_inputs(check_inputs),\n\u001b[1;32m    800\u001b[0m         check_tolerance,\n\u001b[1;32m    801\u001b[0m         strict,\n\u001b[1;32m    802\u001b[0m         _force_outplace,\n\u001b[1;32m    803\u001b[0m         _module_class,\n\u001b[1;32m    804\u001b[0m         example_inputs_is_kwarg\u001b[39m=\u001b[39;49m\u001b[39misinstance\u001b[39;49m(example_kwarg_inputs, \u001b[39mdict\u001b[39;49m),\n\u001b[1;32m    805\u001b[0m         _store_inputs\u001b[39m=\u001b[39;49m_store_inputs\n\u001b[1;32m    806\u001b[0m     )\n\u001b[1;32m    807\u001b[0m \u001b[39mif\u001b[39;00m (\n\u001b[1;32m    808\u001b[0m     \u001b[39mhasattr\u001b[39m(func, \u001b[39m\"\u001b[39m\u001b[39m__self__\u001b[39m\u001b[39m\"\u001b[39m)\n\u001b[1;32m    809\u001b[0m     \u001b[39mand\u001b[39;00m \u001b[39misinstance\u001b[39m(func\u001b[39m.\u001b[39m\u001b[39m__self__\u001b[39m, torch\u001b[39m.\u001b[39mnn\u001b[39m.\u001b[39mModule)\n\u001b[1;32m    810\u001b[0m     \u001b[39mand\u001b[39;00m func\u001b[39m.\u001b[39m\u001b[39m__name__\u001b[39m \u001b[39m==\u001b[39m \u001b[39m\"\u001b[39m\u001b[39mforward\u001b[39m\u001b[39m\"\u001b[39m\n\u001b[1;32m    811\u001b[0m ):\n\u001b[1;32m    812\u001b[0m     \u001b[39mif\u001b[39;00m example_inputs \u001b[39mis\u001b[39;00m \u001b[39mNone\u001b[39;00m:\n",
      "File \u001b[0;32m~/anaconda3/envs/mace/lib/python3.10/site-packages/torch/jit/_trace.py:1023\u001b[0m, in \u001b[0;36mtrace_module\u001b[0;34m(mod, inputs, optimize, check_trace, check_inputs, check_tolerance, strict, _force_outplace, _module_class, _compilation_unit, example_inputs_is_kwarg, _store_inputs)\u001b[0m\n\u001b[1;32m   1020\u001b[0m torch\u001b[39m.\u001b[39mjit\u001b[39m.\u001b[39m_trace\u001b[39m.\u001b[39m_trace_module_map \u001b[39m=\u001b[39m trace_module_map\n\u001b[1;32m   1021\u001b[0m register_submods(mod, \u001b[39m\"\u001b[39m\u001b[39m__module\u001b[39m\u001b[39m\"\u001b[39m)\n\u001b[0;32m-> 1023\u001b[0m module \u001b[39m=\u001b[39m make_module(mod, _module_class, _compilation_unit)\n\u001b[1;32m   1025\u001b[0m \u001b[39mfor\u001b[39;00m method_name, example_inputs \u001b[39min\u001b[39;00m inputs\u001b[39m.\u001b[39mitems():\n\u001b[1;32m   1026\u001b[0m     \u001b[39mif\u001b[39;00m method_name \u001b[39m==\u001b[39m \u001b[39m\"\u001b[39m\u001b[39mforward\u001b[39m\u001b[39m\"\u001b[39m:\n\u001b[1;32m   1027\u001b[0m         \u001b[39m# \"forward\" is a special case because we need to trace\u001b[39;00m\n\u001b[1;32m   1028\u001b[0m         \u001b[39m# `Module.__call__`, which sets up some extra tracing, but uses\u001b[39;00m\n\u001b[1;32m   1029\u001b[0m         \u001b[39m# argument names of the real `Module.forward` method.\u001b[39;00m\n",
      "File \u001b[0;32m~/anaconda3/envs/mace/lib/python3.10/site-packages/torch/jit/_trace.py:604\u001b[0m, in \u001b[0;36mmake_module\u001b[0;34m(mod, _module_class, _compilation_unit)\u001b[0m\n\u001b[1;32m    602\u001b[0m \u001b[39mif\u001b[39;00m _module_class \u001b[39mis\u001b[39;00m \u001b[39mNone\u001b[39;00m:\n\u001b[1;32m    603\u001b[0m     _module_class \u001b[39m=\u001b[39m TopLevelTracedModule\n\u001b[0;32m--> 604\u001b[0m \u001b[39mreturn\u001b[39;00m _module_class(mod, _compilation_unit\u001b[39m=\u001b[39;49m_compilation_unit)\n",
      "File \u001b[0;32m~/anaconda3/envs/mace/lib/python3.10/site-packages/torch/jit/_trace.py:1169\u001b[0m, in \u001b[0;36mTracedModule.__init__\u001b[0;34m(self, orig, id_set, _compilation_unit)\u001b[0m\n\u001b[1;32m   1167\u001b[0m     \u001b[39mif\u001b[39;00m submodule \u001b[39mis\u001b[39;00m \u001b[39mNone\u001b[39;00m:\n\u001b[1;32m   1168\u001b[0m         \u001b[39mcontinue\u001b[39;00m\n\u001b[0;32m-> 1169\u001b[0m     tmp_module\u001b[39m.\u001b[39m_modules[name] \u001b[39m=\u001b[39m make_module(\n\u001b[1;32m   1170\u001b[0m         submodule, TracedModule, _compilation_unit\u001b[39m=\u001b[39;49m\u001b[39mNone\u001b[39;49;00m\n\u001b[1;32m   1171\u001b[0m     )\n\u001b[1;32m   1173\u001b[0m script_module \u001b[39m=\u001b[39m torch\u001b[39m.\u001b[39mjit\u001b[39m.\u001b[39m_recursive\u001b[39m.\u001b[39mcreate_script_module(\n\u001b[1;32m   1174\u001b[0m     tmp_module, \u001b[39mlambda\u001b[39;00m module: (), share_types\u001b[39m=\u001b[39m\u001b[39mFalse\u001b[39;00m, is_tracing\u001b[39m=\u001b[39m\u001b[39mTrue\u001b[39;00m\n\u001b[1;32m   1175\u001b[0m )\n\u001b[1;32m   1177\u001b[0m \u001b[39mself\u001b[39m\u001b[39m.\u001b[39m\u001b[39m__dict__\u001b[39m[\u001b[39m\"\u001b[39m\u001b[39m_name\u001b[39m\u001b[39m\"\u001b[39m] \u001b[39m=\u001b[39m \u001b[39mtype\u001b[39m(orig)\u001b[39m.\u001b[39m\u001b[39m__name__\u001b[39m\n",
      "File \u001b[0;32m~/anaconda3/envs/mace/lib/python3.10/site-packages/torch/jit/_trace.py:595\u001b[0m, in \u001b[0;36mmake_module\u001b[0;34m(mod, _module_class, _compilation_unit)\u001b[0m\n\u001b[1;32m    592\u001b[0m \u001b[39melif\u001b[39;00m torch\u001b[39m.\u001b[39m_jit_internal\u001b[39m.\u001b[39mmodule_has_exports(mod):\n\u001b[1;32m    594\u001b[0m     infer_methods_stubs_fn \u001b[39m=\u001b[39m torch\u001b[39m.\u001b[39mjit\u001b[39m.\u001b[39m_recursive\u001b[39m.\u001b[39mmake_stubs_from_exported_methods\n\u001b[0;32m--> 595\u001b[0m     \u001b[39mreturn\u001b[39;00m torch\u001b[39m.\u001b[39;49mjit\u001b[39m.\u001b[39;49m_recursive\u001b[39m.\u001b[39;49mcreate_script_module(\n\u001b[1;32m    596\u001b[0m         mod,\n\u001b[1;32m    597\u001b[0m         infer_methods_stubs_fn,\n\u001b[1;32m    598\u001b[0m         share_types\u001b[39m=\u001b[39;49m\u001b[39mFalse\u001b[39;49;00m,\n\u001b[1;32m    599\u001b[0m         is_tracing\u001b[39m=\u001b[39;49m\u001b[39mTrue\u001b[39;49;00m\n\u001b[1;32m    600\u001b[0m     )\n\u001b[1;32m    601\u001b[0m \u001b[39melse\u001b[39;00m:\n\u001b[1;32m    602\u001b[0m     \u001b[39mif\u001b[39;00m _module_class \u001b[39mis\u001b[39;00m \u001b[39mNone\u001b[39;00m:\n",
      "File \u001b[0;32m~/anaconda3/envs/mace/lib/python3.10/site-packages/torch/jit/_recursive.py:480\u001b[0m, in \u001b[0;36mcreate_script_module\u001b[0;34m(nn_module, stubs_fn, share_types, is_tracing)\u001b[0m\n\u001b[1;32m    478\u001b[0m \u001b[39mif\u001b[39;00m \u001b[39mnot\u001b[39;00m is_tracing:\n\u001b[1;32m    479\u001b[0m     AttributeTypeIsSupportedChecker()\u001b[39m.\u001b[39mcheck(nn_module)\n\u001b[0;32m--> 480\u001b[0m \u001b[39mreturn\u001b[39;00m create_script_module_impl(nn_module, concrete_type, stubs_fn)\n",
      "File \u001b[0;32m~/anaconda3/envs/mace/lib/python3.10/site-packages/torch/jit/_recursive.py:546\u001b[0m, in \u001b[0;36mcreate_script_module_impl\u001b[0;34m(nn_module, concrete_type, stubs_fn)\u001b[0m\n\u001b[1;32m    544\u001b[0m \u001b[39m# Compile methods if necessary\u001b[39;00m\n\u001b[1;32m    545\u001b[0m \u001b[39mif\u001b[39;00m concrete_type \u001b[39mnot\u001b[39;00m \u001b[39min\u001b[39;00m concrete_type_store\u001b[39m.\u001b[39mmethods_compiled:\n\u001b[0;32m--> 546\u001b[0m     create_methods_and_properties_from_stubs(concrete_type, method_stubs, property_stubs)\n\u001b[1;32m    547\u001b[0m     \u001b[39m# Create hooks after methods to ensure no name collisions between hooks and methods.\u001b[39;00m\n\u001b[1;32m    548\u001b[0m     \u001b[39m# If done before, hooks can overshadow methods that aren't exported.\u001b[39;00m\n\u001b[1;32m    549\u001b[0m     create_hooks_from_stubs(concrete_type, hook_stubs, pre_hook_stubs)\n",
      "File \u001b[0;32m~/anaconda3/envs/mace/lib/python3.10/site-packages/torch/jit/_recursive.py:397\u001b[0m, in \u001b[0;36mcreate_methods_and_properties_from_stubs\u001b[0;34m(concrete_type, method_stubs, property_stubs)\u001b[0m\n\u001b[1;32m    394\u001b[0m property_defs \u001b[39m=\u001b[39m [p\u001b[39m.\u001b[39mdef_ \u001b[39mfor\u001b[39;00m p \u001b[39min\u001b[39;00m property_stubs]\n\u001b[1;32m    395\u001b[0m property_rcbs \u001b[39m=\u001b[39m [p\u001b[39m.\u001b[39mresolution_callback \u001b[39mfor\u001b[39;00m p \u001b[39min\u001b[39;00m property_stubs]\n\u001b[0;32m--> 397\u001b[0m concrete_type\u001b[39m.\u001b[39;49m_create_methods_and_properties(property_defs, property_rcbs, method_defs, method_rcbs, method_defaults)\n",
      "File \u001b[0;32m~/anaconda3/envs/mace/lib/python3.10/site-packages/torch/jit/_recursive.py:898\u001b[0m, in \u001b[0;36mcompile_unbound_method\u001b[0;34m(concrete_type, fn)\u001b[0m\n\u001b[1;32m    894\u001b[0m stub \u001b[39m=\u001b[39m make_stub(fn, fn\u001b[39m.\u001b[39m\u001b[39m__name__\u001b[39m)\n\u001b[1;32m    895\u001b[0m \u001b[39mwith\u001b[39;00m torch\u001b[39m.\u001b[39m_jit_internal\u001b[39m.\u001b[39m_disable_emit_hooks():\n\u001b[1;32m    896\u001b[0m     \u001b[39m# We don't want to call the hooks here since the graph that is calling\u001b[39;00m\n\u001b[1;32m    897\u001b[0m     \u001b[39m# this function is not yet complete\u001b[39;00m\n\u001b[0;32m--> 898\u001b[0m     create_methods_and_properties_from_stubs(concrete_type, (stub,), ())\n\u001b[1;32m    899\u001b[0m \u001b[39mreturn\u001b[39;00m stub\n",
      "File \u001b[0;32m~/anaconda3/envs/mace/lib/python3.10/site-packages/torch/jit/_recursive.py:397\u001b[0m, in \u001b[0;36mcreate_methods_and_properties_from_stubs\u001b[0;34m(concrete_type, method_stubs, property_stubs)\u001b[0m\n\u001b[1;32m    394\u001b[0m property_defs \u001b[39m=\u001b[39m [p\u001b[39m.\u001b[39mdef_ \u001b[39mfor\u001b[39;00m p \u001b[39min\u001b[39;00m property_stubs]\n\u001b[1;32m    395\u001b[0m property_rcbs \u001b[39m=\u001b[39m [p\u001b[39m.\u001b[39mresolution_callback \u001b[39mfor\u001b[39;00m p \u001b[39min\u001b[39;00m property_stubs]\n\u001b[0;32m--> 397\u001b[0m concrete_type\u001b[39m.\u001b[39;49m_create_methods_and_properties(property_defs, property_rcbs, method_defs, method_rcbs, method_defaults)\n",
      "\u001b[0;31mRuntimeError\u001b[0m: \n\nforward(__torch__.neuralODE.___torch_mangle_30.G self, Tensor z, Tensor p) -> Tensor:\nExpected at most 3 arguments but found 4 positional arguments.\n:\n  File \"/lhome/silkem/anaconda3/envs/mace/lib/python3.10/site-packages/torchode/terms.py\", line 61\n    \n        if self.with_args:\n            return self.f(t, y, args)\n                   ~~~~~~ <--- HERE\n        else:\n            return self.f(t, y)\n'ODETerm.vf' is being compiled since it was called from 'Dopri5.init'\n  File \"/lhome/silkem/anaconda3/envs/mace/lib/python3.10/site-packages/torchode/single_step_methods/runge_kutta.py\", line 200\n    \n            if f0 is None:\n                prev_vf1 = term_.vf(problem.t_start, problem.y0, stats, args)\n                ~~~~~~~~~~~~~~~~~~~~~~~~~~~~~~~~~~~~~~~~~~~~~~~~~~~~~~~~~~~~ <--- HERE\n            else:\n                prev_vf1 = f0\n"
     ]
    }
   ],
   "source": [
    "model = nODE.Solver(p_dim=4,z_dim = 10, n_dim=466, DEVICE = DEVICE)\n",
    "writer.add_graph(model, n_ex)\n",
    "# writer.flush()\n",
    "# model\n",
    "# n_ex.shape"
   ]
  },
  {
   "cell_type": "code",
   "execution_count": 6,
   "metadata": {},
   "outputs": [],
   "source": [
    "writer.close()"
   ]
  },
  {
   "cell_type": "code",
   "execution_count": 11,
   "metadata": {},
   "outputs": [
    {
     "name": "stdout",
     "output_type": "stream",
     "text": [
      "Model:         \n",
      "learning rate: 0.01\n",
      "\n",
      ">>> Training model...\n",
      "len tstep     torch.Size([1, 12])\n",
      "stats         {'n_f_evals': tensor([584]), 'n_steps': tensor([97]), 'n_accepted': tensor([49]), 'n_initialized': tensor([5])}\n",
      "status        tensor([4])\n",
      "len tstep     torch.Size([1, 16])\n",
      "stats         {'n_f_evals': tensor([710]), 'n_steps': tensor([118]), 'n_accepted': tensor([61]), 'n_initialized': tensor([7])}\n",
      "status        tensor([4])\n",
      "len tstep     torch.Size([1, 106])\n",
      "stats         {'n_f_evals': tensor([764]), 'n_steps': tensor([127]), 'n_accepted': tensor([64]), 'n_initialized': tensor([5])}\n",
      "status        tensor([4])\n",
      "len tstep     torch.Size([1, 17])\n",
      "stats         {'n_f_evals': tensor([650]), 'n_steps': tensor([108]), 'n_accepted': tensor([54]), 'n_initialized': tensor([3])}\n",
      "status        tensor([4])\n",
      "\n",
      "\t\t# nan: 1 / 4638\n",
      "len tstep     torch.Size([1, 15])\n",
      "stats         {'n_f_evals': tensor([770]), 'n_steps': tensor([128]), 'n_accepted': tensor([64]), 'n_initialized': tensor([3])}\n",
      "status        tensor([4])\n",
      "Epoch 1 complete! \tAverage loss train:  inf \tAverage loss test:  nan\n",
      " \tDONE!\n",
      "\n",
      ">>> Testing model...\n",
      "len tstep     torch.Size([1, 15])\n",
      "stats         {'n_f_evals': tensor([770]), 'n_steps': tensor([128]), 'n_accepted': tensor([64]), 'n_initialized': tensor([3])}\n",
      "status        tensor([4])\n",
      "\n",
      "Test loss: nan\n"
     ]
    }
   ],
   "source": [
    "## Training & validating model\n",
    "\n",
    "loss_train_all, loss_test_all = tr.train(model, lr, data_loader, test_loader, epochs, DEVICE)\n",
    "n_test, n_test_hat, loss = tr.test(model, test_loader, DEVICE)"
   ]
  },
  {
   "cell_type": "code",
   "execution_count": 12,
   "metadata": {},
   "outputs": [
    {
     "name": "stdout",
     "output_type": "stream",
     "text": [
      "tensor([nan, nan, nan, nan, nan, nan, nan, nan, nan, nan, nan, nan, nan, nan, nan, nan, nan, nan, nan, nan, nan, nan, nan, nan,\n",
      "        nan, nan, nan, nan, nan, nan, nan, nan, nan, nan, nan, nan, nan, nan, nan, nan, nan, nan, nan, nan, nan, nan, nan, nan,\n",
      "        nan, nan, nan, nan, nan, nan, nan, nan, nan, nan, nan, nan, nan, nan, nan, nan, nan, nan, nan, nan, nan, nan, nan, nan,\n",
      "        nan, nan, nan, nan, nan, nan, nan, nan, nan, nan, nan, nan, nan, nan, nan, nan, nan, nan, nan, nan, nan, nan, nan, nan,\n",
      "        nan, nan, nan, nan, nan, nan, nan, nan, nan, nan, nan, nan, nan, nan, nan, nan, nan, nan, nan, nan, nan, nan, nan, nan,\n",
      "        nan, nan, nan, nan, nan, nan, nan, nan, nan, nan, nan, nan, nan, nan, nan, nan, nan, nan, nan, nan, nan, nan, nan, nan,\n",
      "        nan, nan, nan, nan, nan, nan, nan, nan, nan, nan, nan, nan, nan, nan, nan, nan, nan, nan, nan, nan, nan, nan, nan, nan,\n",
      "        nan, nan, nan, nan, nan, nan, nan, nan, nan, nan, nan, nan, nan, nan, nan, nan, nan, nan, nan, nan, nan, nan, nan, nan,\n",
      "        nan, nan, nan, nan, nan, nan, nan, nan, nan, nan, nan, nan, nan, nan, nan, nan, nan, nan, nan, nan, nan, nan, nan, nan,\n",
      "        nan, nan, nan, nan, nan, nan, nan, nan, nan, nan, nan, nan, nan, nan, nan, nan, nan, nan, nan, nan, nan, nan, nan, nan,\n",
      "        nan, nan, nan, nan, nan, nan, nan, nan, nan, nan, nan, nan, nan, nan, nan, nan, nan, nan, nan, nan, nan, nan, nan, nan,\n",
      "        nan, nan, nan, nan, nan, nan, nan, nan, nan, nan, nan, nan, nan, nan, nan, nan, nan, nan, nan, nan, nan, nan, nan, nan,\n",
      "        nan, nan, nan, nan, nan, nan, nan, nan, nan, nan, nan, nan, nan, nan, nan, nan, nan, nan, nan, nan, nan, nan, nan, nan,\n",
      "        nan, nan, nan, nan, nan, nan, nan, nan, nan, nan, nan, nan, nan, nan, nan, nan, nan, nan, nan, nan, nan, nan, nan, nan,\n",
      "        nan, nan, nan, nan, nan, nan, nan, nan, nan, nan, nan, nan, nan, nan, nan, nan, nan, nan, nan, nan, nan, nan, nan, nan,\n",
      "        nan, nan, nan, nan, nan, nan, nan, nan, nan, nan, nan, nan, nan, nan, nan, nan, nan, nan, nan, nan, nan, nan, nan, nan,\n",
      "        nan, nan, nan, nan, nan, nan, nan, nan, nan, nan, nan, nan, nan, nan, nan, nan, nan, nan, nan, nan, nan, nan, nan, nan,\n",
      "        nan, nan, nan, nan, nan, nan, nan, nan, nan, nan, nan, nan, nan, nan, nan, nan, nan, nan, nan, nan, nan, nan, nan, nan,\n",
      "        nan, nan, nan, nan, nan, nan, nan, nan, nan, nan, nan, nan, nan, nan, nan, nan, nan, nan, nan, nan, nan, nan, nan, nan,\n",
      "        nan, nan, nan, nan, nan, nan, nan, nan, nan, nan])\n",
      "tensor([0.7048, 0.3735, 0.2775, 0.2615, 0.4214, 1.0000, 0.3711, 0.1647, 0.0000,\n",
      "        0.3076, 0.5007, 0.0000, 0.2149, 0.4296, 0.2084, 0.1401, 0.5066, 0.4565,\n",
      "        0.5025, 0.4294, 0.1300, 0.4174, 0.0494, 0.1658, 0.3253, 0.0000, 0.3944,\n",
      "        0.4284, 0.7525, 0.2380, 0.4807, 0.0649, 0.4096, 0.3069, 0.6594, 0.4220,\n",
      "        0.7453, 0.1120, 0.1007, 0.4522, 0.0000, 0.6302, 0.0000, 0.2787, 0.0000,\n",
      "        0.0000, 0.0000, 0.1496, 0.0000, 0.0000, 0.5440, 0.3075, 0.1595, 0.3730,\n",
      "        0.3998, 0.8104, 0.4560, 0.3136, 0.1218, 0.8088, 0.2635, 0.5539, 0.1925,\n",
      "        0.3700, 0.8083, 0.4073, 0.3886, 0.1445, 0.1472, 0.1126, 0.5651, 0.8771,\n",
      "        0.1347, 0.6622, 0.5445, 0.3917, 0.2672, 0.2462, 0.4909, 0.2045, 0.0000,\n",
      "        0.1082, 0.2799, 0.3666, 0.0200, 0.0000, 0.0000, 0.1294, 0.2188, 0.2477,\n",
      "        0.1111, 0.0462, 0.1563, 0.1683, 0.1722, 0.1779, 0.1213, 0.0000, 0.0056,\n",
      "        0.0734, 0.1518, 0.0000, 0.0000, 0.0888, 0.0000, 0.2062, 0.4093, 0.0000,\n",
      "        0.0558, 0.0000, 0.0000, 0.0000, 0.0000, 0.0000, 0.0000, 0.2383, 0.2111,\n",
      "        0.0100, 0.0000, 0.4747, 0.1973, 0.0000, 0.0000, 0.0000, 0.0210, 0.1453,\n",
      "        0.5987, 0.0000, 0.3711, 0.3508, 0.0334, 0.0000, 0.6979, 0.0000, 0.4388,\n",
      "        0.1052, 0.3315, 0.0000, 0.2102, 0.4388, 0.0430, 0.0973, 0.1562, 0.3729,\n",
      "        0.3106, 0.3934, 0.1742, 0.3900, 0.4215, 0.4194, 0.4360, 0.1869, 0.0154,\n",
      "        0.0000, 0.3412, 0.0000, 0.0000, 0.2773, 0.2002, 0.4473, 0.1884, 0.0156,\n",
      "        0.0000, 0.1351, 0.2911, 0.0873, 0.0457, 0.4416, 0.1058, 0.1437, 0.0000,\n",
      "        0.2603, 0.2004, 0.0000, 0.1281, 0.3485, 0.0000, 0.3488, 0.0000, 0.0087,\n",
      "        0.0000, 0.0000, 0.0000, 0.1346, 0.0000, 0.4126, 0.2989, 0.0000, 0.0000,\n",
      "        0.0087, 0.0292, 0.2103, 0.0000, 0.0000, 0.0000, 0.1823, 0.1130, 0.0000,\n",
      "        0.7779, 0.1350, 0.0000, 0.1566, 0.1725, 0.1975, 0.6391, 0.1212, 0.0722,\n",
      "        0.7607, 0.1130, 0.0000, 0.0000, 0.1566, 0.0000, 0.3818, 0.2325, 0.4759,\n",
      "        0.5155, 0.0000, 0.0000, 0.0843, 0.3210, 0.0000, 0.0565, 0.0000, 0.0000,\n",
      "        0.0957, 0.0941, 0.0000, 0.0000, 0.0000, 0.0000, 0.0000, 0.1093, 0.0109,\n",
      "        0.0000, 0.0000, 0.0000, 0.0000, 0.0000, 0.0000, 0.0000, 0.2098, 0.0000,\n",
      "        0.0000, 0.1955, 0.0109, 0.1764, 0.0000, 0.0000, 0.1751, 0.0000, 0.0000,\n",
      "        0.0000, 0.0000, 0.0612, 0.0000, 0.2192, 0.1582, 0.0000, 0.0000, 0.0000,\n",
      "        0.0000, 0.1224, 0.0000, 0.4456, 0.0000, 0.0000, 0.4167, 0.4382, 0.3852,\n",
      "        0.0000, 0.1187, 0.0469, 0.3043, 0.3588, 0.0000, 0.0000, 0.5353, 0.1854,\n",
      "        0.0232, 0.0000, 0.7909, 0.1144, 0.0982, 0.3705, 0.1475, 0.0000, 0.0000,\n",
      "        0.0372, 0.3659, 0.4860, 0.2556, 0.0000, 0.4624, 0.0644, 0.2530, 0.0027,\n",
      "        0.0000, 0.0922, 0.3495, 0.2600, 0.0000, 0.0202, 0.0025, 0.0000, 0.2824,\n",
      "        0.1257, 0.1911, 0.1795, 0.0000, 0.1738, 0.0000, 0.0000, 0.0868, 0.0000,\n",
      "        0.0000, 0.2421, 0.0248, 0.0000, 0.0000, 0.0000, 0.0000, 0.0618, 0.0000,\n",
      "        0.0000, 0.0666, 0.1604, 0.2871, 0.0000, 0.3174, 0.4062, 0.7647, 0.0000,\n",
      "        0.0000, 0.0752, 0.4448, 0.1780, 0.0000, 0.2302, 0.0000, 0.0151, 0.2156,\n",
      "        0.0000, 0.3280, 0.0000, 0.0000, 0.3766, 0.2896, 0.0000, 0.0195, 0.0969,\n",
      "        0.3119, 0.0000, 0.1829, 0.0000, 0.0000, 0.0000, 0.0000, 0.1210, 0.0000,\n",
      "        0.0000, 0.0000, 0.0000, 0.4503, 0.1144, 0.0000, 0.1210, 0.0000, 0.0000,\n",
      "        0.0000, 0.0000, 0.0000, 0.2863, 0.0000, 0.0041, 0.0000, 0.0000, 0.0000,\n",
      "        0.2891, 0.0000, 0.0866, 0.3501, 0.1188, 0.0531, 0.0000, 0.0000, 0.0000,\n",
      "        0.1091, 0.2929, 0.1149, 0.4068, 0.2558, 0.1829, 0.0191, 0.3589, 0.3326,\n",
      "        0.3336, 0.0000, 0.0000, 0.4826, 0.0000, 0.0000, 0.0000, 0.0000, 0.1074,\n",
      "        0.0000, 0.0000, 0.0000, 0.0000, 0.0000, 0.0172, 0.0209, 0.0089, 0.1273,\n",
      "        0.1069, 0.0000, 0.0000, 0.0970, 0.0000, 0.0000, 0.0543, 0.0000, 0.0561,\n",
      "        0.0000, 0.0000, 0.0000, 0.1346, 0.0000, 0.1608, 0.1345, 0.0000, 0.1150,\n",
      "        0.0072, 0.2414, 0.0000, 0.0000, 0.0000, 0.0000, 0.0000, 0.0000, 0.0000,\n",
      "        0.0000, 0.0000, 0.0000, 0.0000, 0.1015, 0.0000, 0.0000, 0.0000, 0.0000,\n",
      "        0.0000, 0.0000, 0.0000, 0.0000, 0.0000, 0.0804, 0.0000, 0.0000, 0.0000,\n",
      "        0.0000, 0.0000, 0.0801, 0.1935, 0.0000, 0.0000, 0.0000])\n"
     ]
    },
    {
     "data": {
      "image/png": "[encoded data removed]",
      "text/plain": [
       "<Figure size 960x720 with 1 Axes>"
      ]
     },
     "metadata": {},
     "output_type": "display_data"
    }
   ],
   "source": [
    "i = 0\n",
    "x = np.linspace(-20,0,100)\n",
    "print(n_test_hat[0][i])\n",
    "print(n_test[0][i])\n",
    "plt.plot(n_test[0][i],n_test_hat[0][i], 'o')\n",
    "plt.plot(x,x,c='k')\n",
    "\n",
    "plt.xlabel('real')\n",
    "plt.ylabel('predicted')\n",
    "plt.show()"
   ]
  },
  {
   "cell_type": "markdown",
   "metadata": {},
   "source": [
    "### Testing seperately"
   ]
  },
  {
   "cell_type": "code",
   "execution_count": 5,
   "metadata": {},
   "outputs": [],
   "source": [
    "enc = ae.Encoder( 466, 100, 10)\n",
    "dec = ae.Decoder(10,100,466)\n",
    "\n",
    "i = 849\n",
    "n_test = train[i][0]\n",
    "n_0    = n_test[:,0]\n",
    "p      = train[i][1]\n",
    "t      = train[i][2]"
   ]
  },
  {
   "cell_type": "code",
   "execution_count": 6,
   "metadata": {},
   "outputs": [
    {
     "data": {
      "text/plain": [
       "tensor([0.7226, 0.3927, 0.2972, 0.2814, 0.4411, 1.0000, 0.3909, 0.1847, 0.0000,\n",
       "        0.3325, 0.4542, 0.0000, 0.2347, 0.3718, 0.2282, 0.1601, 0.4799, 0.4442,\n",
       "        0.5176, 0.4303, 0.1500, 0.4351, 0.0707, 0.1857, 0.2221, 0.0000, 0.4178,\n",
       "        0.3992, 0.7526, 0.2610, 0.4209, 0.0862, 0.3999, 0.2976, 0.6599, 0.4695,\n",
       "        0.7455, 0.1341, 0.1031, 0.4606, 0.0108, 0.6302, 0.0000, 0.3240, 0.0000,\n",
       "        0.0000, 0.0499, 0.1694, 0.0000, 0.0000, 0.5708, 0.3528, 0.1794, 0.3846,\n",
       "        0.4136, 0.8104, 0.3697, 0.3601, 0.1431, 0.8088, 0.3140, 0.5517, 0.2121,\n",
       "        0.4686, 0.8083, 0.4103, 0.4241, 0.1747, 0.1962, 0.1324, 0.5893, 0.8770,\n",
       "        0.1547, 0.6622, 0.5842, 0.4067, 0.3102, 0.3135, 0.5023, 0.2325, 0.1266,\n",
       "        0.1393, 0.2994, 0.3860, 0.1142, 0.0000, 0.0000, 0.1667, 0.2551, 0.2968,\n",
       "        0.1410, 0.1883, 0.2239, 0.2133, 0.1935, 0.2340, 0.1534, 0.0155, 0.1122,\n",
       "        0.0891, 0.2008, 0.0000, 0.0000, 0.1519, 0.0000, 0.2442, 0.3596, 0.0000,\n",
       "        0.1461, 0.0000, 0.0000, 0.0000, 0.0000, 0.0000, 0.0000, 0.2701, 0.2584,\n",
       "        0.0858, 0.0000, 0.4797, 0.2252, 0.0000, 0.0000, 0.0000, 0.1500, 0.1694,\n",
       "        0.6025, 0.0000, 0.3916, 0.3688, 0.0548, 0.0000, 0.6979, 0.0000, 0.4712,\n",
       "        0.1217, 0.3234, 0.0000, 0.2344, 0.4712, 0.1424, 0.1229, 0.1802, 0.4015,\n",
       "        0.3577, 0.4220, 0.2160, 0.4248, 0.4556, 0.4547, 0.4810, 0.2321, 0.0418,\n",
       "        0.0530, 0.3470, 0.0000, 0.0000, 0.3705, 0.2460, 0.4698, 0.2445, 0.0422,\n",
       "        0.0000, 0.1688, 0.4050, 0.2203, 0.1597, 0.4901, 0.1529, 0.2654, 0.0507,\n",
       "        0.3089, 0.2653, 0.0000, 0.1702, 0.3759, 0.0000, 0.3733, 0.0000, 0.1172,\n",
       "        0.0000, 0.0000, 0.1458, 0.1806, 0.1660, 0.4426, 0.3705, 0.0000, 0.0000,\n",
       "        0.1172, 0.1581, 0.2600, 0.0000, 0.0705, 0.0000, 0.2030, 0.2538, 0.0000,\n",
       "        0.7778, 0.1823, 0.0000, 0.2019, 0.2178, 0.2645, 0.6390, 0.2046, 0.1859,\n",
       "        0.7607, 0.2525, 0.0000, 0.0000, 0.2019, 0.0000, 0.4106, 0.2813, 0.5074,\n",
       "        0.5453, 0.0000, 0.0000, 0.1198, 0.3672, 0.0000, 0.0573, 0.0000, 0.0000,\n",
       "        0.1620, 0.1262, 0.0000, 0.0000, 0.0000, 0.0000, 0.0000, 0.1549, 0.1087,\n",
       "        0.0000, 0.0000, 0.0000, 0.0000, 0.0000, 0.0000, 0.0000, 0.2787, 0.0173,\n",
       "        0.0844, 0.2459, 0.0675, 0.2249, 0.0000, 0.0000, 0.2227, 0.0349, 0.0000,\n",
       "        0.0000, 0.1409, 0.1172, 0.0000, 0.3199, 0.1775, 0.0000, 0.0000, 0.0000,\n",
       "        0.0000, 0.1740, 0.0000, 0.5131, 0.0000, 0.0000, 0.4170, 0.5024, 0.4773,\n",
       "        0.0000, 0.2491, 0.0950, 0.3687, 0.4050, 0.0000, 0.0000, 0.5608, 0.2763,\n",
       "        0.1322, 0.1648, 0.7909, 0.1353, 0.1448, 0.3946, 0.2334, 0.0000, 0.0000,\n",
       "        0.0959, 0.4124, 0.5482, 0.2997, 0.0000, 0.5085, 0.0931, 0.3118, 0.1010,\n",
       "        0.0697, 0.1200, 0.4111, 0.3606, 0.0000, 0.0908, 0.1242, 0.0000, 0.3674,\n",
       "        0.1735, 0.2336, 0.2206, 0.0000, 0.2293, 0.0000, 0.0000, 0.1924, 0.0000,\n",
       "        0.0000, 0.2935, 0.0805, 0.0000, 0.0000, 0.0000, 0.0000, 0.1133, 0.0000,\n",
       "        0.0000, 0.1833, 0.2116, 0.3137, 0.0291, 0.3626, 0.4328, 0.7647, 0.0000,\n",
       "        0.0000, 0.1462, 0.4823, 0.2414, 0.0428, 0.3723, 0.0000, 0.2255, 0.2654,\n",
       "        0.0000, 0.4672, 0.0805, 0.0000, 0.4530, 0.4292, 0.0000, 0.0555, 0.1772,\n",
       "        0.3479, 0.0470, 0.3335, 0.0000, 0.0000, 0.0000, 0.0000, 0.2174, 0.0000,\n",
       "        0.0241, 0.0821, 0.1051, 0.5179, 0.1708, 0.0103, 0.2174, 0.0000, 0.0000,\n",
       "        0.0000, 0.0000, 0.0000, 0.3234, 0.0000, 0.0803, 0.0469, 0.0000, 0.1702,\n",
       "        0.3958, 0.0410, 0.2631, 0.4796, 0.2360, 0.1535, 0.0380, 0.0000, 0.0000,\n",
       "        0.2100, 0.3292, 0.1758, 0.4427, 0.2742, 0.3335, 0.1265, 0.4424, 0.3582,\n",
       "        0.4746, 0.0093, 0.0000, 0.5521, 0.0000, 0.0537, 0.0000, 0.0000, 0.1785,\n",
       "        0.0000, 0.0727, 0.0000, 0.0692, 0.0252, 0.1853, 0.1245, 0.1779, 0.2266,\n",
       "        0.2102, 0.1188, 0.0000, 0.2037, 0.0000, 0.0190, 0.1235, 0.0000, 0.1885,\n",
       "        0.0000, 0.0475, 0.1871, 0.2110, 0.0000, 0.1595, 0.2110, 0.0000, 0.2474,\n",
       "        0.1709, 0.2501, 0.0000, 0.0000, 0.0407, 0.0000, 0.0000, 0.0000, 0.0216,\n",
       "        0.1392, 0.1040, 0.1391, 0.1882, 0.1882, 0.0000, 0.0000, 0.0000, 0.0000,\n",
       "        0.0000, 0.0000, 0.0000, 0.0000, 0.0000, 0.2051, 0.0000, 0.0000, 0.0000,\n",
       "        0.0000, 0.0000, 0.2050, 0.2529, 0.0000, 0.0000, 0.0000])"
      ]
     },
     "execution_count": 6,
     "metadata": {},
     "output_type": "execute_result"
    }
   ],
   "source": [
    "n_test[:,2]"
   ]
  },
  {
   "cell_type": "code",
   "execution_count": 7,
   "metadata": {},
   "outputs": [
    {
     "data": {
      "text/plain": [
       "torch.Size([466, 13])"
      ]
     },
     "execution_count": 7,
     "metadata": {},
     "output_type": "execute_result"
    }
   ],
   "source": [
    "n_test.shape"
   ]
  },
  {
   "cell_type": "code",
   "execution_count": 16,
   "metadata": {},
   "outputs": [
    {
     "data": {
      "text/plain": [
       "tensor([ 0.0304, -0.0208,  0.0088,  0.0077,  0.1048,  0.0349,  0.0692,  0.0506,\n",
       "         0.1116, -0.0181], grad_fn=<LeakyReluBackward0>)"
      ]
     },
     "execution_count": 16,
     "metadata": {},
     "output_type": "execute_result"
    }
   ],
   "source": [
    "z_0= enc(n_0)\n",
    "\n",
    "z_0"
   ]
  },
  {
   "cell_type": "code",
   "execution_count": 17,
   "metadata": {},
   "outputs": [
    {
     "name": "stdout",
     "output_type": "stream",
     "text": [
      "tensor([[0.0401, 0.0169, 0.0033, 0.0189, 0.0106, 0.0075, 0.0043, 0.0357, 0.0107,\n",
      "         0.0334]], grad_fn=<AddBackward0>)\n"
     ]
    }
   ],
   "source": [
    "g = nODE.G(4,10)\n",
    "z = z_0.view(1,10)\n",
    "g_fun = nODE.G.forward(g,t,z,p)\n",
    "print(g_fun)"
   ]
  },
  {
   "cell_type": "code",
   "execution_count": 18,
   "metadata": {},
   "outputs": [
    {
     "name": "stdout",
     "output_type": "stream",
     "text": [
      "len tstep     torch.Size([1, 13])\n",
      "stats         {'n_f_evals': tensor([668]), 'n_steps': tensor([111]), 'n_accepted': tensor([56]), 'n_initialized': tensor([5])}\n",
      "status        tensor([4])\n"
     ]
    },
    {
     "data": {
      "text/plain": [
       "tensor([[[-0.0015,  0.0869, -0.0110,  ..., -0.0069,  0.0011,  0.0498],\n",
       "         [-0.0015,  0.0872, -0.0110,  ..., -0.0069,  0.0012,  0.0498],\n",
       "         [-0.0015,  0.0875, -0.0110,  ..., -0.0068,  0.0013,  0.0498],\n",
       "         ...,\n",
       "         [-0.0001,  0.0863, -0.0112,  ..., -0.0058,  0.0064,  0.0404],\n",
       "         [-0.0001,  0.0863, -0.0112,  ..., -0.0058,  0.0064,  0.0404],\n",
       "         [-0.0001,  0.0863, -0.0112,  ..., -0.0058,  0.0064,  0.0404]]],\n",
       "       grad_fn=<ReshapeAliasBackward0>)"
      ]
     },
     "execution_count": 18,
     "metadata": {},
     "output_type": "execute_result"
    }
   ],
   "source": [
    "n_s = model(n_0, p, t.view(1,-1))\n",
    "n_s"
   ]
  },
  {
   "cell_type": "code",
   "execution_count": 24,
   "metadata": {},
   "outputs": [
    {
     "data": {
      "text/plain": [
       "tensor([1.4498, 0.9794])"
      ]
     },
     "execution_count": 24,
     "metadata": {},
     "output_type": "execute_result"
    }
   ],
   "source": [
    "A = torch.rand(2,2).ravel()\n",
    "B = torch.rand(2,2,2).ravel()\n",
    "# print(A)\n",
    "\n",
    "A = A.reshape(2,2)\n",
    "B = B.reshape(2,2,2)\n",
    "\n",
    "z = torch.rand(2)\n",
    "\n",
    "\n",
    "torch.einsum(\"ij, j -> i\", A, z) + torch.einsum(\"ijk, j, k -> i\", B, z, z)"
   ]
  }
 ],
 "metadata": {
  "kernelspec": {
   "display_name": "mace",
   "language": "python",
   "name": "python3"
  },
  "language_info": {
   "codemirror_mode": {
    "name": "ipython",
    "version": 3
   },
   "file_extension": ".py",
   "mimetype": "text/x-python",
   "name": "python",
   "nbconvert_exporter": "python",
   "pygments_lexer": "ipython3",
   "version": "3.10.13"
  },
  "orig_nbformat": 4
 },
 "nbformat": 4,
 "nbformat_minor": 2
}
