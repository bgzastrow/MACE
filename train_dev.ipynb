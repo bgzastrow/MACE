{
 "cells": [
  {
   "cell_type": "code",
   "execution_count": 1,
   "metadata": {},
   "outputs": [],
   "source": [
    "import numpy             as np\n",
    "import matplotlib.pyplot as plt\n",
    "import matplotlib        as mpl\n",
    "import sys\n",
    "import tqdm\n",
    "\n",
    "import torch\n",
    "import torch.nn          as nn\n",
    "from torch.utils.data    import Dataset, DataLoader\n",
    "from torch.optim         import Adam\n",
    "\n",
    "from matplotlib          import rcParams, rc\n",
    "rcParams.update({'figure.dpi': 200})\n",
    "mpl.rcParams.update({'font.size': 8})\n",
    "plt.rcParams['figure.dpi'] = 150\n",
    "\n",
    "\n",
    "## import own functions\n",
    "sys.path.insert(1, '/lhome/silkem/MACE/MACE/src/mace')\n",
    "import autoencoder  as ae\n",
    "import dataset      as ds\n",
    "import plotting     as pl\n",
    "import train        as tr\n",
    "import neuralODE    as nODE"
   ]
  },
  {
   "cell_type": "code",
   "execution_count": 2,
   "metadata": {},
   "outputs": [],
   "source": [
    "## Set up PyTorch \n",
    "cuda   = False\n",
    "DEVICE = torch.device(\"cuda\" if cuda else \"cpu\")\n",
    "batch_size = 1 ## if not 1, dan kan er geen tensor van gemaakt worden\n",
    "epochs = 1\n",
    "lr = 0.01\n",
    "\n",
    "kwargs = {'num_workers': 1, 'pin_memory': True} "
   ]
  },
  {
   "cell_type": "code",
   "execution_count": 3,
   "metadata": {},
   "outputs": [
    {
     "name": "stdout",
     "output_type": "stream",
     "text": [
      "Dataset:\n",
      "------------------------------\n",
      "total # of samples: 7566\n",
      "# training samples: 5296\n",
      "# testing samples:  2270\n",
      "            ratio:  0.3\n"
     ]
    }
   ],
   "source": [
    "dirname = 'easy-mace'\n",
    "\n",
    "train, data_loader, test_loader = ds.get_data(dirname = dirname, batch_size=batch_size, kwargs=kwargs, plot = True, scale = None)"
   ]
  },
  {
   "cell_type": "code",
   "execution_count": 5,
   "metadata": {},
   "outputs": [],
   "source": [
    "model = nODE.Solver(p_dim=4,z_dim = 10, n_dim=466)"
   ]
  },
  {
   "cell_type": "code",
   "execution_count": 6,
   "metadata": {},
   "outputs": [
    {
     "name": "stdout",
     "output_type": "stream",
     "text": [
      "Model:         \n",
      "learning rate: 0.01\n",
      "\n",
      " >>> Training model...\n",
      "train\n",
      "8\r"
     ]
    }
   ],
   "source": [
    "## Training & validating model\n",
    "\n",
    "loss_train_all, loss_test_all = tr.train(model, lr, data_loader, test_loader, epochs, DEVICE)\n",
    "x_test, x_test_hat, loss = tr.test(model, test_loader, DEVICE)"
   ]
  },
  {
   "cell_type": "code",
   "execution_count": null,
   "metadata": {},
   "outputs": [
    {
     "data": {
      "text/plain": [
       "tensor([1.1054, 1.1729])"
      ]
     },
     "execution_count": 9,
     "metadata": {},
     "output_type": "execute_result"
    }
   ],
   "source": [
    "A = torch.rand(2,2).ravel()\n",
    "B = torch.rand(2,2,2).ravel()\n",
    "# print(A)\n",
    "\n",
    "A = A.reshape(2,2)\n",
    "B = B.reshape(2,2,2)\n",
    "\n",
    "z = torch.rand(2)\n",
    "\n",
    "\n",
    "torch.einsum(\"ij, j -> i\", A, z) + torch.einsum(\"ijk, j, k -> i\", B, z, z)"
   ]
  }
 ],
 "metadata": {
  "kernelspec": {
   "display_name": "mace",
   "language": "python",
   "name": "python3"
  },
  "language_info": {
   "codemirror_mode": {
    "name": "ipython",
    "version": 3
   },
   "file_extension": ".py",
   "mimetype": "text/x-python",
   "name": "python",
   "nbconvert_exporter": "python",
   "pygments_lexer": "ipython3",
   "version": "3.9.16"
  },
  "orig_nbformat": 4
 },
 "nbformat": 4,
 "nbformat_minor": 2
}
