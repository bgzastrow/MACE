{
 "cells": [
  {
   "cell_type": "code",
   "execution_count": 2,
   "id": "e6152f28-6e49-423e-9dd9-bc5304e59845",
   "metadata": {},
   "outputs": [
    {
     "ename": "OSError",
     "evalue": "/lib64/libm.so.6: version `GLIBC_2.29' not found (required by /lhome/silkem/MACE/MACE/0Dmodel/chemlib.so)",
     "output_type": "error",
     "traceback": [
      "\u001b[0;31m---------------------------------------------------------------------------\u001b[0m",
      "\u001b[0;31mOSError\u001b[0m                                   Traceback (most recent call last)",
      "Cell \u001b[0;32mIn[2], line 4\u001b[0m\n\u001b[1;32m      1\u001b[0m \u001b[38;5;28;01mimport\u001b[39;00m \u001b[38;5;21;01mctypes\u001b[39;00m \u001b[38;5;28;01mas\u001b[39;00m \u001b[38;5;21;01mct\u001b[39;00m\n\u001b[1;32m      2\u001b[0m \u001b[38;5;28;01mimport\u001b[39;00m \u001b[38;5;21;01mnumpy\u001b[39;00m  \u001b[38;5;28;01mas\u001b[39;00m \u001b[38;5;21;01mnp\u001b[39;00m\n\u001b[0;32m----> 4\u001b[0m chemlib \u001b[38;5;241m=\u001b[39m \u001b[43mct\u001b[49m\u001b[38;5;241;43m.\u001b[39;49m\u001b[43mCDLL\u001b[49m\u001b[43m(\u001b[49m\u001b[38;5;124;43m\"\u001b[39;49m\u001b[38;5;124;43m/lhome/silkem/MACE/MACE/0Dmodel/chemlib.so\u001b[39;49m\u001b[38;5;124;43m\"\u001b[39;49m\u001b[43m)\u001b[49m\n",
      "File \u001b[0;32m~/anaconda3/envs/mace/lib/python3.9/ctypes/__init__.py:382\u001b[0m, in \u001b[0;36mCDLL.__init__\u001b[0;34m(self, name, mode, handle, use_errno, use_last_error, winmode)\u001b[0m\n\u001b[1;32m    <a href='file:///lhome/silkem/anaconda3/envs/mace/lib/python3.9/ctypes/__init__.py?line=378'>379</a>\u001b[0m \u001b[39mself\u001b[39m\u001b[39m.\u001b[39m_FuncPtr \u001b[39m=\u001b[39m _FuncPtr\n\u001b[1;32m    <a href='file:///lhome/silkem/anaconda3/envs/mace/lib/python3.9/ctypes/__init__.py?line=380'>381</a>\u001b[0m \u001b[39mif\u001b[39;00m handle \u001b[39mis\u001b[39;00m \u001b[39mNone\u001b[39;00m:\n\u001b[0;32m--> <a href='file:///lhome/silkem/anaconda3/envs/mace/lib/python3.9/ctypes/__init__.py?line=381'>382</a>\u001b[0m     \u001b[39mself\u001b[39m\u001b[39m.\u001b[39m_handle \u001b[39m=\u001b[39m _dlopen(\u001b[39mself\u001b[39;49m\u001b[39m.\u001b[39;49m_name, mode)\n\u001b[1;32m    <a href='file:///lhome/silkem/anaconda3/envs/mace/lib/python3.9/ctypes/__init__.py?line=382'>383</a>\u001b[0m \u001b[39melse\u001b[39;00m:\n\u001b[1;32m    <a href='file:///lhome/silkem/anaconda3/envs/mace/lib/python3.9/ctypes/__init__.py?line=383'>384</a>\u001b[0m     \u001b[39mself\u001b[39m\u001b[39m.\u001b[39m_handle \u001b[39m=\u001b[39m handle\n",
      "\u001b[0;31mOSError\u001b[0m: /lib64/libm.so.6: version `GLIBC_2.29' not found (required by /lhome/silkem/MACE/MACE/0Dmodel/chemlib.so)"
     ]
    }
   ],
   "source": [
    "import ctypes as ct\n",
    "import numpy  as np\n",
    "\n",
    "chemlib = ct.CDLL(\"/lhome/silkem/MACE/MACE/0Dmodel/chemlib.so\")   # shared object file"
   ]
  },
  {
   "cell_type": "code",
   "execution_count": 2,
   "id": "6afd6c37-dacb-4b9a-acb7-ebbb423e703b",
   "metadata": {},
   "outputs": [
    {
     "data": {
      "text/plain": [
       "<CDLL '/STER/frederikd/IvS/Silke/chemlib.so', handle 556f5a5b2dc0 at 0x7fe013433f40>"
      ]
     },
     "execution_count": 2,
     "metadata": {},
     "output_type": "execute_result"
    }
   ],
   "source": [
    "chemlib"
   ]
  },
  {
   "cell_type": "code",
   "execution_count": 3,
   "id": "5ee736d6-0a0e-4406-818c-f608588e26ff",
   "metadata": {},
   "outputs": [],
   "source": [
    "chemlib.original_main.argtypes = [ct.POINTER(ct.c_double), ct.c_int]"
   ]
  },
  {
   "cell_type": "code",
   "execution_count": 4,
   "id": "56676866-1efe-4d0d-a028-56bb16cdef60",
   "metadata": {},
   "outputs": [],
   "source": [
    "x     = np.ones(2425, order=\"F\")\n",
    "x_ptr = x.ctypes.data_as(ct.POINTER(ct.c_double))"
   ]
  },
  {
   "cell_type": "code",
   "execution_count": 5,
   "id": "ab5d6c1f-3c46-4996-84fa-5d1551cc6850",
   "metadata": {},
   "outputs": [
    {
     "name": "stdout",
     "output_type": "stream",
     "text": [
      " Temperature..    10.000000000000000     \n",
      " Density..        20000.000000000000     \n",
      " CR Ionisation rate scaling..    1.0000000000000000     \n",
      " UV radiation field scaling..    1.0000000000000000     \n",
      " Visual extinction..     10.000000000000000     \n",
      " Reading species and initial abundances..\n",
      " Initially, relative to H2\n",
      "      e-         0.00E+00    0.0\n",
      "      H2         5.00E-01    2.0\n",
      "     H         5.00E-05\n",
      "     He        9.00E-02\n",
      "     C+        1.40E-04\n",
      "     N         7.50E-05\n",
      "     O         3.20E-04\n",
      "     F         2.00E-08\n",
      "     Na+       2.00E-09\n",
      "     Mg+       7.00E-09\n",
      "     Si+       8.00E-09\n",
      "     P+        3.00E-09\n",
      "     S+        8.00E-08\n",
      "     Cl+       4.00E-09\n",
      "     Fe+       3.00E-09\n",
      " ...Reading rate file..............\n",
      " Reactions read:         6173\n",
      " Starting calculation..\n",
      "           1   1.2589337435670684        7.3666385355520783E-011\n",
      "           2   1.5849036869797375        3.4229333549163897E-010\n",
      "           3   1.9952755336310879        9.5763628074121441E-010\n",
      "           4   2.5119030814379828        2.1714372032185164E-009\n",
      "           5   3.1622986320365736        4.3956596699772332E-009\n",
      "           6   3.9810981212123968        8.2965777797490710E-009\n",
      "           7   5.0119056088367477        1.4936776686012204E-008\n",
      "           8   6.3096153541273408        2.5982453353377159E-008\n",
      "           9   7.9433351352120916        4.3993974395598666E-008\n",
      "          10   10.000066490427379        7.2812643470575884E-008\n",
      "          11   12.589337867625858        1.1804168636813605E-007\n",
      "          12   15.849037413596724        1.8759074146357517E-007\n",
      "          13   19.952756020913704        2.9221075813298723E-007\n",
      "          14   25.119031676243722        4.4589885345075833E-007\n",
      "          15   31.622987405388095        6.6602833568209386E-007\n",
      "          16   39.810982578086190        9.7311597391207436E-007\n",
      "          17   50.119057808012037        1.3903562383403261E-006\n",
      "          18   63.096155706177662        1.9434071268633164E-006\n",
      "          19   79.433354077573895        2.6611325971190079E-006\n",
      "          20   100.00066833541582        3.5775226489656379E-006\n",
      "          21   125.89338299581051        4.7338524671794305E-006\n",
      "          22   158.49037957396092        6.1789688352195113E-006\n",
      "          23   199.52756705516546        7.9654126045662250E-006\n",
      "          24   251.19032538107646        1.0138643885042840E-005\n",
      "          25   316.22988490410495        1.2714474629108748E-005\n",
      "          26   398.10983944048473        1.5638033525197058E-005\n",
      "          27   501.19059527656668        1.8730952560205280E-005\n",
      "          28   630.96157871081982        2.1688277021067540E-005\n",
      "          29   794.33356803026982        2.4218780438274499E-005\n",
      "          30   1000.0067176655798        2.6230268385966393E-005\n",
      "          31   1258.9338731536257        2.7830572893098727E-005\n",
      "          32   1584.9038501195482        2.9197558154992638E-005\n",
      "          33   1995.2757390119418        3.0483017373636281E-005\n",
      "          34   2511.9033399971599        3.1772306578722634E-005\n",
      "          35   3162.2989575432935        3.3090449027170159E-005\n",
      "          36   3981.0985310010797        3.4494036360918764E-005\n",
      "          37   5011.9061247301352        3.6118945344559031E-005\n",
      "          38   6309.6160035986386        3.8110629903540873E-005\n",
      "          39   7943.3359528480159        4.0600513961390622E-005\n",
      "          40   10000.067519770026        4.3729410646640960E-005\n",
      "          41   12589.339163491477        4.7665276291101412E-005\n",
      "          42   15849.039044994888        5.2614074393131068E-005\n",
      "          43   19952.758074722311        5.8827857358085390E-005\n",
      "          44   25119.034261835583        6.6610548086297526E-005\n",
      "          45   31622.990660455405        7.6318269105920961E-005\n",
      "          46   39810.986675973167        8.8346713450272924E-005\n",
      "          47   50119.062966946098        1.0309256471086887E-004\n",
      "          48   63096.162200890860        1.2086900656715474E-004\n",
      "          49   79433.362253933432        1.4176325476252571E-004\n",
      "          50   100000.67862884265        1.6545406124441426E-004\n",
      "          51   125893.39595446714        1.9105985492084382E-004\n",
      " ...Analysing chemistry............\n",
      "\n",
      " ...Main formation and destruction reactions written to analyse.out         \n",
      " ...Resuming model.................\n",
      "          52   158490.39588794313        2.1707111583605228E-004\n",
      "          53   199527.58759325230        2.4132778001575628E-004\n",
      "          54   251190.35123699598        2.6119798285882852E-004\n",
      "          55   316229.91745477915        2.7394354010005720E-004\n",
      "          56   398109.88041935582        2.7726253955652453E-004\n",
      "          57   501190.64686590899        2.7852930677431273E-004\n",
      "          58   630961.64365795418        2.7919919677917097E-004\n",
      "          59   794333.64979386795        2.7953081162739030E-004\n",
      "          60   1000006.8205998515        2.7968280216392178E-004\n",
      "          61   1258934.0027401964        2.7974523349487022E-004\n",
      "          62   1584904.0132593757        2.7976478990496349E-004\n",
      "          63   1995275.9443928171        2.7976401972871953E-004\n",
      "          64   2511903.5985563640        2.7975330695585141E-004\n",
      "          65   3162299.2830500463        2.7973831779713553E-004\n",
      "          66   3981098.9407898048        2.7972373133725123E-004\n",
      "          67   5011906.6406235760        2.7971326976683762E-004\n",
      "          68   6309616.6530700037        2.7970794324212202E-004\n",
      "          69   7943336.7704840247        2.7970611809052673E-004\n",
      "          70   10000068.549112778        2.7970570815239278E-004\n",
      "          71   12589340.459357230        2.7970565157698420E-004\n",
      "          72   15849040.676393220        2.7970564719355986E-004\n",
      "          73   19952760.128531139        2.7970564702201712E-004\n",
      "          74   25119036.847427711        2.7970564701874126E-004\n",
      "          75   31622993.915523048        2.7970564701871540E-004\n",
      "          76   39810990.773860551        2.7970564701873020E-004\n",
      "          77   50119068.125880688        2.7970564701870239E-004\n",
      "          78   63096168.695604734        2.7970564701872982E-004\n",
      "          79   79433370.430293798        2.7970564701873990E-004\n",
      "          80   100000688.92227051        2.7970564701874164E-004\n"
     ]
    },
    {
     "data": {
      "text/plain": [
       "0"
      ]
     },
     "execution_count": 5,
     "metadata": {},
     "output_type": "execute_result"
    }
   ],
   "source": [
    "chemlib.original_main(x_ptr, ct.c_int(len(x)))"
   ]
  },
  {
   "cell_type": "code",
   "execution_count": 5,
   "id": "cd37e299-fa56-452c-906b-7a1b81461057",
   "metadata": {},
   "outputs": [
    {
     "data": {
      "text/plain": [
       "array([2.71828183, 2.71828183, 2.71828183, ..., 2.71828183, 2.71828183,\n",
       "       2.71828183])"
      ]
     },
     "execution_count": 5,
     "metadata": {},
     "output_type": "execute_result"
    }
   ],
   "source": [
    "x"
   ]
  },
  {
   "cell_type": "code",
   "execution_count": 21,
   "id": "0951d53c-8b24-4ab2-ad31-0363e45de1e6",
   "metadata": {},
   "outputs": [
    {
     "data": {
      "text/plain": [
       "2425"
      ]
     },
     "execution_count": 21,
     "metadata": {},
     "output_type": "execute_result"
    }
   ],
   "source": [
    "len(x)"
   ]
  },
  {
   "cell_type": "code",
   "execution_count": null,
   "id": "22429a85-281d-4564-a5c6-79737e6cb956",
   "metadata": {},
   "outputs": [],
   "source": []
  }
 ],
 "metadata": {
  "interpreter": {
   "hash": "4cfec3ae79f839ed35c55406a3ad8c3c1082e0129819951cbf0a51bf47981102"
  },
  "kernelspec": {
   "display_name": "Python 3.9.16 ('mace')",
   "language": "python",
   "name": "python3"
  },
  "language_info": {
   "codemirror_mode": {
    "name": "ipython",
    "version": 3
   },
   "file_extension": ".py",
   "mimetype": "text/x-python",
   "name": "python",
   "nbconvert_exporter": "python",
   "pygments_lexer": "ipython3",
   "version": "3.9.16"
  }
 },
 "nbformat": 4,
 "nbformat_minor": 5
}
