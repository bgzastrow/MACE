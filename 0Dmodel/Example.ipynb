{
 "cells": [
  {
   "cell_type": "code",
   "execution_count": 1,
   "id": "e6152f28-6e49-423e-9dd9-bc5304e59845",
   "metadata": {},
   "outputs": [],
   "source": [
    "import os\n",
    "import ctypes as ct\n",
    "import numpy  as np\n",
    "\n",
    "chemlib = ct.CDLL(f\"{os.getcwd()}/bin/chemlib.so\")   # shared object file\n",
    "\n",
    "chemlib.setup.argtypes = [ct.POINTER(ct.c_double), ct.POINTER(ct.c_double)]\n",
    "chemlib.solve.argtypes = [ct.POINTER(ct.c_double), ct.POINTER(ct.c_double)]"
   ]
  },
  {
   "cell_type": "code",
   "execution_count": 2,
   "id": "5ac19798-3b76-44b0-922c-1574a9f14143",
   "metadata": {},
   "outputs": [
    {
     "data": {
      "text/plain": [
       "array([1., 1., 1., ..., 1., 1., 1.])"
      ]
     },
     "execution_count": 2,
     "metadata": {},
     "output_type": "execute_result"
    }
   ],
   "source": [
    "N_KMAX = 10000\n",
    "N      = 466   # Number of species?\n",
    "\n",
    "Y     = np.ones(N,      order=\"F\")\n",
    "K     = np.ones(N_KMAX, order=\"F\")\n",
    "\n",
    "Y_ptr = Y.ctypes.data_as(ct.POINTER(ct.c_double))\n",
    "K_ptr = K.ctypes.data_as(ct.POINTER(ct.c_double))\n",
    "K"
   ]
  },
  {
   "cell_type": "code",
   "execution_count": 3,
   "id": "22429a85-281d-4564-a5c6-79737e6cb956",
   "metadata": {},
   "outputs": [
    {
     "name": "stdout",
     "output_type": "stream",
     "text": [
      " Temperature..    10.000000000000000     \n",
      " Density..        20000.000000000000     \n",
      " CR Ionisation rate scaling..    1.0000000000000000     \n",
      " UV radiation field scaling..    1.0000000000000000     \n",
      " Visual extinction..    10.000000000000000     \n",
      " Reading species and initial abundances..\n",
      " Initially, relative to H2\n",
      "      e-         0.00E+00    0.0\n",
      "      H2         5.00E-01    2.0\n",
      "     H         5.00E-05\n",
      "     He        9.00E-02\n",
      "     C+        1.40E-04\n",
      "     N         7.50E-05\n",
      "     O         3.20E-04\n",
      "     F         2.00E-08\n",
      "     Na+       2.00E-09\n",
      "     Mg+       7.00E-09\n",
      "     Si+       8.00E-09\n",
      "     P+        3.00E-09\n",
      "     S+        8.00E-08\n",
      "     Cl+       4.00E-09\n",
      "     Fe+       3.00E-09\n",
      " ...Reading rate file..............\n",
      " Reactions read:         6173\n"
     ]
    },
    {
     "data": {
      "text/plain": [
       "465"
      ]
     },
     "execution_count": 3,
     "metadata": {},
     "output_type": "execute_result"
    }
   ],
   "source": [
    "chemlib.setup(Y_ptr, K_ptr)"
   ]
  },
  {
   "cell_type": "code",
   "execution_count": 4,
   "id": "53dca6ef-806a-4500-b4fd-b630bcf63044",
   "metadata": {},
   "outputs": [
    {
     "data": {
      "text/plain": [
       "array([5.e-10, 5.e-10, 5.e-10, ..., 1.e+00, 1.e+00, 1.e+00])"
      ]
     },
     "execution_count": 4,
     "metadata": {},
     "output_type": "execute_result"
    }
   ],
   "source": [
    "K"
   ]
  },
  {
   "cell_type": "code",
   "execution_count": 5,
   "id": "b7b61670-91c5-42f5-a479-82fcf1fceba7",
   "metadata": {},
   "outputs": [
    {
     "name": "stdout",
     "output_type": "stream",
     "text": [
      " Starting calculation..\n",
      " DVODE--  Warning..internal T (=R1) and H (=R2) are\n",
      "       such that in the machine, T + H = T on the next step  \n",
      "       (H = step size). solver will continue anyway\n",
      "      In above,  R1 =  0.9881312916825-323   R2 =  0.0000000000000D+00\n",
      "           1   1.8651032477728100E-317                       NaN\n"
     ]
    },
    {
     "data": {
      "text/plain": [
       "870638016"
      ]
     },
     "execution_count": 5,
     "metadata": {},
     "output_type": "execute_result"
    }
   ],
   "source": [
    "chemlib.solve(Y_ptr, K_ptr)"
   ]
  },
  {
   "cell_type": "code",
   "execution_count": 6,
   "id": "d176c158-82e4-4187-8664-6fbbd784b68c",
   "metadata": {},
   "outputs": [
    {
     "data": {
      "text/plain": [
       "array([nan, nan, nan, nan, nan, nan, nan, nan, nan, nan, nan, nan, nan,\n",
       "       nan, nan, nan, nan, nan, nan, nan, nan, nan, nan, nan, nan, nan,\n",
       "       nan, nan, nan, nan, nan, nan, nan, nan, nan, nan, nan, nan, nan,\n",
       "       nan, nan, nan, nan, nan, nan, nan, nan, nan, nan, nan, nan, nan,\n",
       "       nan, nan, nan, nan, nan, nan, nan, nan, nan, nan, nan, nan, nan,\n",
       "       nan, nan, nan, nan, nan, nan, nan, nan, nan, nan, nan, nan, nan,\n",
       "       nan, nan, nan, nan, nan, nan, nan, nan, nan, nan, nan, nan, nan,\n",
       "       nan, nan, nan, nan, nan, nan, nan, nan, nan, nan, nan, nan, nan,\n",
       "       nan, nan, nan, nan, nan, nan, nan, nan, nan, nan, nan, nan, nan,\n",
       "       nan, nan, nan, nan, nan, nan, nan, nan, nan, nan, nan, nan, nan,\n",
       "       nan, nan, nan, nan, nan, nan, nan, nan, nan, nan, nan, nan, nan,\n",
       "       nan, nan, nan, nan, nan, nan, nan, nan, nan, nan, nan, nan, nan,\n",
       "       nan, nan, nan, nan, nan, nan, nan, nan, nan, nan, nan, nan, nan,\n",
       "       nan, nan, nan, nan, nan, nan, nan, nan, nan, nan, nan, nan, nan,\n",
       "       nan, nan, nan, nan, nan, nan, nan, nan, nan, nan, nan, nan, nan,\n",
       "       nan, nan, nan, nan, nan, nan, nan, nan, nan, nan, nan, nan, nan,\n",
       "       nan, nan, nan, nan, nan, nan, nan, nan, nan, nan, nan, nan, nan,\n",
       "       nan, nan, nan, nan, nan, nan, nan, nan, nan, nan, nan, nan, nan,\n",
       "       nan, nan, nan, nan, nan, nan, nan, nan, nan, nan, nan, nan, nan,\n",
       "       nan, nan, nan, nan, nan, nan, nan, nan, nan, nan, nan, nan, nan,\n",
       "       nan, nan, nan, nan, nan, nan, nan, nan, nan, nan, nan, nan, nan,\n",
       "       nan, nan, nan, nan, nan, nan, nan, nan, nan, nan, nan, nan, nan,\n",
       "       nan, nan, nan, nan, nan, nan, nan, nan, nan, nan, nan, nan, nan,\n",
       "       nan, nan, nan, nan, nan, nan, nan, nan, nan, nan, nan, nan, nan,\n",
       "       nan, nan, nan, nan, nan, nan, nan, nan, nan, nan, nan, nan, nan,\n",
       "       nan, nan, nan, nan, nan, nan, nan, nan, nan, nan, nan, nan, nan,\n",
       "       nan, nan, nan, nan, nan, nan, nan, nan, nan, nan, nan, nan, nan,\n",
       "       nan, nan, nan, nan, nan, nan, nan, nan, nan, nan, nan, nan, nan,\n",
       "       nan, nan, nan, nan, nan, nan, nan, nan, nan, nan, nan, nan, nan,\n",
       "       nan, nan, nan, nan, nan, nan, nan, nan, nan, nan, nan, nan, nan,\n",
       "       nan, nan, nan, nan, nan, nan, nan, nan, nan, nan, nan, nan, nan,\n",
       "       nan, nan, nan, nan, nan, nan, nan, nan, nan, nan, nan, nan, nan,\n",
       "       nan, nan, nan, nan, nan, nan, nan, nan, nan, nan, nan, nan, nan,\n",
       "       nan, nan, nan, nan, nan, nan, nan, nan, nan, nan, nan, nan, nan,\n",
       "       nan, nan, nan, nan, nan, nan, nan, nan, nan, nan, nan, nan, nan,\n",
       "       nan, nan, nan, nan, nan, nan, nan, nan, nan, nan, nan])"
      ]
     },
     "execution_count": 6,
     "metadata": {},
     "output_type": "execute_result"
    }
   ],
   "source": [
    "Y"
   ]
  },
  {
   "cell_type": "code",
   "execution_count": 13,
   "id": "6afd6c37-dacb-4b9a-acb7-ebbb423e703b",
   "metadata": {},
   "outputs": [
    {
     "data": {
      "text/plain": [
       "<CDLL '/STER/frederikd/MACE/0Dmodel/bin/chemlib.so', handle 56254218ae50 at 0x7efc8c74be50>"
      ]
     },
     "execution_count": 13,
     "metadata": {},
     "output_type": "execute_result"
    }
   ],
   "source": [
    "chemlib"
   ]
  },
  {
   "cell_type": "code",
   "execution_count": 14,
   "id": "5ee736d6-0a0e-4406-818c-f608588e26ff",
   "metadata": {},
   "outputs": [
    {
     "ename": "AttributeError",
     "evalue": "/STER/frederikd/MACE/0Dmodel/bin/chemlib.so: undefined symbol: original_main",
     "output_type": "error",
     "traceback": [
      "\u001b[0;31m---------------------------------------------------------------------------\u001b[0m",
      "\u001b[0;31mAttributeError\u001b[0m                            Traceback (most recent call last)",
      "Input \u001b[0;32mIn [14]\u001b[0m, in \u001b[0;36m<cell line: 1>\u001b[0;34m()\u001b[0m\n\u001b[0;32m----> 1\u001b[0m \u001b[43mchemlib\u001b[49m\u001b[38;5;241;43m.\u001b[39;49m\u001b[43moriginal_main\u001b[49m\u001b[38;5;241m.\u001b[39margtypes \u001b[38;5;241m=\u001b[39m [ct\u001b[38;5;241m.\u001b[39mPOINTER(ct\u001b[38;5;241m.\u001b[39mc_double), ct\u001b[38;5;241m.\u001b[39mc_int]\n",
      "File \u001b[0;32m~/.conda/envs/magritte/lib/python3.9/ctypes/__init__.py:387\u001b[0m, in \u001b[0;36mCDLL.__getattr__\u001b[0;34m(self, name)\u001b[0m\n\u001b[1;32m    385\u001b[0m \u001b[38;5;28;01mif\u001b[39;00m name\u001b[38;5;241m.\u001b[39mstartswith(\u001b[38;5;124m'\u001b[39m\u001b[38;5;124m__\u001b[39m\u001b[38;5;124m'\u001b[39m) \u001b[38;5;129;01mand\u001b[39;00m name\u001b[38;5;241m.\u001b[39mendswith(\u001b[38;5;124m'\u001b[39m\u001b[38;5;124m__\u001b[39m\u001b[38;5;124m'\u001b[39m):\n\u001b[1;32m    386\u001b[0m     \u001b[38;5;28;01mraise\u001b[39;00m \u001b[38;5;167;01mAttributeError\u001b[39;00m(name)\n\u001b[0;32m--> 387\u001b[0m func \u001b[38;5;241m=\u001b[39m \u001b[38;5;28;43mself\u001b[39;49m\u001b[38;5;241;43m.\u001b[39;49m\u001b[38;5;21;43m__getitem__\u001b[39;49m\u001b[43m(\u001b[49m\u001b[43mname\u001b[49m\u001b[43m)\u001b[49m\n\u001b[1;32m    388\u001b[0m \u001b[38;5;28msetattr\u001b[39m(\u001b[38;5;28mself\u001b[39m, name, func)\n\u001b[1;32m    389\u001b[0m \u001b[38;5;28;01mreturn\u001b[39;00m func\n",
      "File \u001b[0;32m~/.conda/envs/magritte/lib/python3.9/ctypes/__init__.py:392\u001b[0m, in \u001b[0;36mCDLL.__getitem__\u001b[0;34m(self, name_or_ordinal)\u001b[0m\n\u001b[1;32m    391\u001b[0m \u001b[38;5;28;01mdef\u001b[39;00m \u001b[38;5;21m__getitem__\u001b[39m(\u001b[38;5;28mself\u001b[39m, name_or_ordinal):\n\u001b[0;32m--> 392\u001b[0m     func \u001b[38;5;241m=\u001b[39m \u001b[38;5;28;43mself\u001b[39;49m\u001b[38;5;241;43m.\u001b[39;49m\u001b[43m_FuncPtr\u001b[49m\u001b[43m(\u001b[49m\u001b[43m(\u001b[49m\u001b[43mname_or_ordinal\u001b[49m\u001b[43m,\u001b[49m\u001b[43m \u001b[49m\u001b[38;5;28;43mself\u001b[39;49m\u001b[43m)\u001b[49m\u001b[43m)\u001b[49m\n\u001b[1;32m    393\u001b[0m     \u001b[38;5;28;01mif\u001b[39;00m \u001b[38;5;129;01mnot\u001b[39;00m \u001b[38;5;28misinstance\u001b[39m(name_or_ordinal, \u001b[38;5;28mint\u001b[39m):\n\u001b[1;32m    394\u001b[0m         func\u001b[38;5;241m.\u001b[39m\u001b[38;5;18m__name__\u001b[39m \u001b[38;5;241m=\u001b[39m name_or_ordinal\n",
      "\u001b[0;31mAttributeError\u001b[0m: /STER/frederikd/MACE/0Dmodel/bin/chemlib.so: undefined symbol: original_main"
     ]
    }
   ],
   "source": [
    "chemlib.solve.argtypes = [ct.POINTER(ct.c_double)]"
   ]
  },
  {
   "cell_type": "code",
   "execution_count": 5,
   "id": "56676866-1efe-4d0d-a028-56bb16cdef60",
   "metadata": {},
   "outputs": [],
   "source": [
    "x     = np.ones(2425, order=\"F\")        # fortan moet kunnen de matrix begrijpen\n",
    "x_ptr = x.ctypes.data_as(ct.POINTER(ct.c_double))"
   ]
  },
  {
   "cell_type": "code",
   "execution_count": null,
   "id": "ab5d6c1f-3c46-4996-84fa-5d1551cc6850",
   "metadata": {},
   "outputs": [
    {
     "ename": "",
     "evalue": "",
     "output_type": "error",
     "traceback": [
      "\u001b[1;31mCanceled future for execute_request message before replies were done"
     ]
    },
    {
     "ename": "",
     "evalue": "",
     "output_type": "error",
     "traceback": [
      "\u001b[1;31mThe Kernel crashed while executing code in the the current cell or a previous cell. Please review the code in the cell(s) to identify a possible cause of the failure. Click <a href='https://aka.ms/vscodeJupyterKernelCrash'>here</a> for more info. View Jupyter <a href='command:jupyter.viewOutput'>log</a> for further details."
     ]
    }
   ],
   "source": [
    "chemlib.original_main(x_ptr, ct.c_int(len(x)))"
   ]
  },
  {
   "cell_type": "code",
   "execution_count": 11,
   "id": "cd37e299-fa56-452c-906b-7a1b81461057",
   "metadata": {},
   "outputs": [
    {
     "data": {
      "text/plain": [
       "array([2.71828183, 2.71828183, 2.71828183, ..., 2.71828183, 2.71828183,\n",
       "       2.71828183])"
      ]
     },
     "execution_count": 11,
     "metadata": {},
     "output_type": "execute_result"
    }
   ],
   "source": [
    "x"
   ]
  },
  {
   "cell_type": "code",
   "execution_count": 21,
   "id": "0951d53c-8b24-4ab2-ad31-0363e45de1e6",
   "metadata": {},
   "outputs": [
    {
     "data": {
      "text/plain": [
       "2425"
      ]
     },
     "execution_count": 21,
     "metadata": {},
     "output_type": "execute_result"
    }
   ],
   "source": [
    "len(x)"
   ]
  },
  {
   "cell_type": "code",
   "execution_count": null,
   "id": "8b9e88a7-a5a5-44cd-808b-377002884a87",
   "metadata": {},
   "outputs": [],
   "source": []
  }
 ],
 "metadata": {
  "interpreter": {
   "hash": "4cfec3ae79f839ed35c55406a3ad8c3c1082e0129819951cbf0a51bf47981102"
  },
  "kernelspec": {
   "display_name": "Python 3 (ipykernel)",
   "language": "python",
   "name": "python3"
  },
  "language_info": {
   "codemirror_mode": {
    "name": "ipython",
    "version": 3
   },
   "file_extension": ".py",
   "mimetype": "text/x-python",
   "name": "python",
   "nbconvert_exporter": "python",
   "pygments_lexer": "ipython3",
   "version": "3.9.13"
  }
 },
 "nbformat": 4,
 "nbformat_minor": 5
}
