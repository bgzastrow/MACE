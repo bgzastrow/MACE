{
 "cells": [
  {
   "cell_type": "code",
   "execution_count": 2,
   "id": "e6152f28-6e49-423e-9dd9-bc5304e59845",
   "metadata": {},
   "outputs": [],
   "source": [
    "import ctypes as ct\n",
    "import numpy  as np\n",
    "\n",
    "chemlib = ct.CDLL(\"/lhome/silkem/MACE/MACE/0Dmodel/chemlib.so\")   # shared object file"
   ]
  },
  {
   "cell_type": "code",
   "execution_count": 3,
   "id": "6afd6c37-dacb-4b9a-acb7-ebbb423e703b",
   "metadata": {},
   "outputs": [
    {
     "data": {
      "text/plain": [
       "<CDLL '/lhome/silkem/MACE/MACE/0Dmodel/chemlib.so', handle 22efb70 at 0x7f83c015b220>"
      ]
     },
     "execution_count": 3,
     "metadata": {},
     "output_type": "execute_result"
    }
   ],
   "source": [
    "chemlib"
   ]
  },
  {
   "cell_type": "code",
   "execution_count": 4,
   "id": "5ee736d6-0a0e-4406-818c-f608588e26ff",
   "metadata": {},
   "outputs": [],
   "source": [
    "chemlib.original_main.argtypes = [ct.POINTER(ct.c_double), ct.c_int]"
   ]
  },
  {
   "cell_type": "code",
   "execution_count": 5,
   "id": "56676866-1efe-4d0d-a028-56bb16cdef60",
   "metadata": {},
   "outputs": [],
   "source": [
    "x     = np.ones(2425, order=\"F\")        # fortan moet kunnen de matrix begrijpen\n",
    "x_ptr = x.ctypes.data_as(ct.POINTER(ct.c_double))"
   ]
  },
  {
   "cell_type": "code",
   "execution_count": null,
   "id": "ab5d6c1f-3c46-4996-84fa-5d1551cc6850",
   "metadata": {},
   "outputs": [
    {
     "ename": "",
     "evalue": "",
     "output_type": "error",
     "traceback": [
      "\u001b[1;31mCanceled future for execute_request message before replies were done"
     ]
    },
    {
     "ename": "",
     "evalue": "",
     "output_type": "error",
     "traceback": [
      "\u001b[1;31mThe Kernel crashed while executing code in the the current cell or a previous cell. Please review the code in the cell(s) to identify a possible cause of the failure. Click <a href='https://aka.ms/vscodeJupyterKernelCrash'>here</a> for more info. View Jupyter <a href='command:jupyter.viewOutput'>log</a> for further details."
     ]
    }
   ],
   "source": [
    "chemlib.original_main(x_ptr, ct.c_int(len(x)))"
   ]
  },
  {
   "cell_type": "code",
   "execution_count": 11,
   "id": "cd37e299-fa56-452c-906b-7a1b81461057",
   "metadata": {},
   "outputs": [
    {
     "data": {
      "text/plain": [
       "array([2.71828183, 2.71828183, 2.71828183, ..., 2.71828183, 2.71828183,\n",
       "       2.71828183])"
      ]
     },
     "execution_count": 11,
     "metadata": {},
     "output_type": "execute_result"
    }
   ],
   "source": [
    "x"
   ]
  },
  {
   "cell_type": "code",
   "execution_count": 21,
   "id": "0951d53c-8b24-4ab2-ad31-0363e45de1e6",
   "metadata": {},
   "outputs": [
    {
     "data": {
      "text/plain": [
       "2425"
      ]
     },
     "execution_count": 21,
     "metadata": {},
     "output_type": "execute_result"
    }
   ],
   "source": [
    "len(x)"
   ]
  },
  {
   "cell_type": "code",
   "execution_count": null,
   "id": "22429a85-281d-4564-a5c6-79737e6cb956",
   "metadata": {},
   "outputs": [],
   "source": []
  }
 ],
 "metadata": {
  "interpreter": {
   "hash": "4cfec3ae79f839ed35c55406a3ad8c3c1082e0129819951cbf0a51bf47981102"
  },
  "kernelspec": {
   "display_name": "Python 3.9.16 ('mace')",
   "language": "python",
   "name": "python3"
  },
  "language_info": {
   "codemirror_mode": {
    "name": "ipython",
    "version": 3
   },
   "file_extension": ".py",
   "mimetype": "text/x-python",
   "name": "python",
   "nbconvert_exporter": "python",
   "pygments_lexer": "ipython3",
   "version": "3.9.16"
  }
 },
 "nbformat": 4,
 "nbformat_minor": 5
}
