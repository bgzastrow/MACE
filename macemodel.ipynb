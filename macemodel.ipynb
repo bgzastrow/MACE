{
 "cells": [
  {
   "cell_type": "code",
   "execution_count": 2,
   "metadata": {},
   "outputs": [],
   "source": [
    "import numpy             as np\n",
    "import matplotlib.pyplot as plt\n",
    "import matplotlib        as mpl\n",
    "import sys\n",
    "import os\n",
    "# import tqdm\n",
    "import torch\n",
    "\n",
    "from torch.utils.tensorboard import SummaryWriter\n",
    "\n",
    "from matplotlib          import rcParams\n",
    "rcParams.update({'figure.dpi': 200})\n",
    "mpl.rcParams.update({'font.size': 8})def makeOutputDir(path):\n",
    "    if not os.path.exists(path):\n",
    "        os.mkdir(path)\n",
    "    return path\n",
    "plt.rcParams['figure.dpi'] = 150\n",
    "\n",
    "## import own functions\n",
    "sys.path.insert(1, '/STER/silkem/MACE/src/mace')\n",
    "import src.mace.autoencoder  as ae\n",
    "import src.mace.dataset      as ds\n",
    "import src.mace.train        as tr\n",
    "import src.mace.neuralODE    as nODE\n",
    "import src.mace.plotting     as pl\n",
    "\n",
    "sys.path.append('/STER/silkem/ChemTorch/')\n",
    "import modclass\n",
    "\n",
    "def makeOutputDir(path):\n",
    "    if not os.path.exists(path):\n",
    "        os.mkdir(path)\n",
    "    return path"
   ]
  },
  {
   "cell_type": "code",
   "execution_count": 3,
   "metadata": {},
   "outputs": [],
   "source": [
    "out = '/STER/silkem/MACE/benchmark/'\n",
    "dirname = 'bm_C_Mdot1e-8_v2-5'\n",
    "makeOutputDir(out+dirname+'/')\n"
   ]
  },
  {
   "cell_type": "code",
   "execution_count": 4,
   "metadata": {},
   "outputs": [],
   "source": [
    "## 1D chem model\n",
    "outloc = '/STER/silkem/CSEchem/'\n",
    "\n",
    "outdir = '20210518_gridC_Mdot1e-8_v02_T_eps'\n",
    "mod = 'model_2022-12-24h23-19-06'\n",
    "\n",
    "## loading the physical input from the 1D model\n",
    "CSEmodel = modclass.CSEmod(loc = 'STER', dir = outdir, modelname = mod)\n",
    "\n",
    "## input\n",
    "Mdot   = CSEmodel.Mdot\n",
    "v      = CSEmodel.v\n",
    "eps    = CSEmodel.eps\n",
    "T_star = CSEmodel.Tstar\n",
    "\n",
    "## parametrised inputs\n",
    "dens = CSEmodel.dens\n",
    "temp = CSEmodel.temp\n",
    "δ    = CSEmodel.delta\n",
    "Av   = CSEmodel.Av\n",
    "time = CSEmodel.time\n"
   ]
  },
  {
   "cell_type": "code",
   "execution_count": 10,
   "metadata": {},
   "outputs": [
    {
     "data": {
      "text/plain": [
       "3.9996"
      ]
     },
     "execution_count": 10,
     "metadata": {},
     "output_type": "execute_result"
    }
   ],
   "source": [
    "((max(time) - min(time))/1.e4)"
   ]
  },
  {
   "cell_type": "code",
   "execution_count": null,
   "metadata": {},
   "outputs": [],
   "source": [
    "## Remesh for the torchode benchmark\n",
    "t = np.linspace(min(time), 1.e9, 5000)\n",
    "\n",
    "dens = np.interp(t, time, dens)\n",
    "temp = np.interp(t, time, temp)\n",
    "Av   = np.interp(t, time, Av  )\n",
    "δ    = np.interp(t, time, δ   )"
   ]
  }
 ],
 "metadata": {
  "kernelspec": {
   "display_name": "mace",
   "language": "python",
   "name": "python3"
  },
  "language_info": {
   "codemirror_mode": {
    "name": "ipython",
    "version": 3
   },
   "file_extension": ".py",
   "mimetype": "text/x-python",
   "name": "python",
   "nbconvert_exporter": "python",
   "pygments_lexer": "ipython3",
   "version": "3.10.13"
  }
 },
 "nbformat": 4,
 "nbformat_minor": 2
}
