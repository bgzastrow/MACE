{
 "cells": [
  {
   "cell_type": "code",
   "execution_count": 5,
   "metadata": {},
   "outputs": [],
   "source": [
    "import numpy as np\n",
    "import matplotlib.pyplot as plt"
   ]
  },
  {
   "cell_type": "markdown",
   "metadata": {},
   "source": [
    "### Random inputs for mace"
   ]
  },
  {
   "cell_type": "code",
   "execution_count": 1,
   "metadata": {},
   "outputs": [],
   "source": [
    "def uniform(max, min, round):\n",
    "    return np.round((max - min) * np.random.rand() + min,round)\n",
    "\n",
    "def write_random_input_file(x):\n",
    "\n",
    "    lr    = 10.0**uniform(-5, -3,3)\n",
    "    z_dim = np.random.choice([8, 10, 16, 32])\n",
    "\n",
    "    mse1 = 10.0**uniform(3, 7, 0) \n",
    "    evo1 = 10.0**uniform(0, np.log10(0.1*mse1), 0) \n",
    "    idn1 = 10.0**uniform(2, 5, 0)  \n",
    "    mse2 = 10.0**uniform(0, 2, 0)\n",
    "\n",
    "    with open(f\"/STER/silkem/MACE/input/xmas2023/in_file_{x}.txt\", \"w\") as file:\n",
    "        file.write(f\"\"\"\n",
    "## input model\n",
    "\n",
    "lr          = {lr}\n",
    "tot_epochs  = 100\n",
    "nb_epochs   = 61\n",
    "losstype    = mse_idn_evo\n",
    "z_dim       = {z_dim}\n",
    "nb_samples  = 18000\n",
    "\n",
    "## loss fractions\n",
    "\n",
    "mse1 = {mse1}\n",
    "rel1 = 0 \n",
    "evo1 = {evo1}\n",
    "idn1 = {idn1}\n",
    "\n",
    "mse2 = {mse2}\n",
    "rel2 = 0\n",
    "evo2 = 1\n",
    "idn2 = 1\n",
    "\"\"\"\n",
    ")"
   ]
  },
  {
   "cell_type": "code",
   "execution_count": 29,
   "metadata": {},
   "outputs": [],
   "source": [
    "def write_job_script(x):\n",
    "    with open(f\"/STER/silkem/mace_jobs/slurm_job_mace{x}\", \"w\") as file:\n",
    "        file.write(f\"\"\"#!/bin/bash\n",
    "#SBATCH --job-name='mace-xmas-training-{x}'\n",
    "#SBATCH --account=silkem\n",
    "#SBATCH --time=4-00:00:00\n",
    "#SBATCH --output=./mace_logs/out/xmas{x}_%A.out\n",
    "#SBATCH --error=./mace_logs/error/xmas{x}_%A.err\n",
    "#SBATCH --nodes=1\n",
    "#SBATCH --ntasks-per-node=1\n",
    "#SBATCH --cpus-per-task=2\n",
    "#SBATCH --mem-per-cpu=16G\n",
    "#SBATCH --hint=multithread\n",
    "#SBATCH --partition=long\n",
    "#SBATCH --array=1-150\n",
    "\n",
    "\n",
    "python /STER/silkem/MACE/src/mace/CSE_0D/mace_training_routine.py xmas2023/in_file_{x}\n",
    "\"\"\"\n",
    ")"
   ]
  },
  {
   "cell_type": "code",
   "execution_count": 59,
   "metadata": {},
   "outputs": [],
   "source": [
    "write_random_input_file(101)"
   ]
  },
  {
   "cell_type": "code",
   "execution_count": 5,
   "metadata": {},
   "outputs": [],
   "source": [
    "i=1\n",
    "while i < 3:\n",
    "    write_job_script(100+i)\n",
    "    write_random_input_file(100+i)\n",
    "    i += 1"
   ]
  },
  {
   "cell_type": "code",
   "execution_count": 30,
   "metadata": {},
   "outputs": [],
   "source": [
    "i=1\n",
    "while i <= 150:\n",
    "    write_random_input_file(i)\n",
    "    write_job_script(i)\n",
    "    i += 1"
   ]
  },
  {
   "cell_type": "markdown",
   "metadata": {},
   "source": [
    "### Inputs grid mace"
   ]
  },
  {
   "cell_type": "code",
   "execution_count": 3,
   "metadata": {},
   "outputs": [
    {
     "name": "stdout",
     "output_type": "stream",
     "text": [
      "1\n",
      "2\n",
      "3\n",
      "4\n",
      "5\n",
      "6\n",
      "7\n",
      "8\n",
      "9\n",
      "10\n",
      "11\n",
      "12\n",
      "13\n",
      "14\n",
      "15\n",
      "16\n",
      "17\n",
      "18\n"
     ]
    }
   ],
   "source": [
    "with open(f\"/STER/silkem/MACE/input/grid/overview.txt\", \"w\") as file:\n",
    "    file.write(f\"\"\"{'index'.ljust(10)} {'lr'.ljust(10)} {'z_dim'.ljust(10)} {'nb_evol'.ljust(10)}\n",
    "            \"\"\")\n",
    "\n",
    "lrs      = [1.e-5,1.e-4]\n",
    "z_dims   = [8,16,32]\n",
    "nb_evols = [8,16,32]\n",
    "\n",
    "x=1\n",
    "for nb_evol in nb_evols:\n",
    "    for lr in lrs:\n",
    "        for z_dim in z_dims:\n",
    "        \n",
    "            print(x)\n",
    "            ## WRITE INPUT FILE\n",
    "            with open(f\"/STER/silkem/MACE/input/grid/grid_{x}.in\", \"w\") as file:\n",
    "                file.write(f\"\"\"\n",
    "## input model\n",
    "\n",
    "lr          = {lr}\n",
    "ini_epochs  = 5\n",
    "tot_epochs  = 250\n",
    "nb_epochs   = 151\n",
    "losstype    = mse_idn\n",
    "z_dim       = {z_dim}\n",
    "nb_samples  = 10000\n",
    "nb_evol     = {nb_evol}\n",
    "\n",
    "nb_hidden = 1\n",
    "ae_type = simple\n",
    "\n",
    "## loss fractions\n",
    "\n",
    "mse1 = 1\n",
    "rel1 = 0 \n",
    "evo1 = 0\n",
    "idn1 = 1\n",
    "\n",
    "mse2 = 100\n",
    "rel2 = 0\n",
    "evo2 = 0\n",
    "idn2 = 100\n",
    "\"\"\"\n",
    ")\n",
    "                # Write overview file\n",
    "            with open(f\"/STER/silkem/MACE/input/grid/overview.txt\", \"a\") as file:\n",
    "                file.write(f\"\"\"{str(x).ljust(10)} {str(nb_evol).ljust(10)} {str(lr).ljust(10)} {str(z_dim).ljust(10)}  \\n\"\"\")\n",
    "                           \n",
    "            x+=1"
   ]
  },
  {
   "cell_type": "code",
   "execution_count": 6,
   "metadata": {},
   "outputs": [
    {
     "name": "stdout",
     "output_type": "stream",
     "text": [
      "1\n",
      "2\n",
      "3\n",
      "4\n",
      "5\n",
      "6\n",
      "7\n",
      "8\n",
      "9\n"
     ]
    }
   ],
   "source": [
    "with open(f\"/STER/silkem/MACE/input/grid2/overview.txt\", \"w\") as file:\n",
    "    file.write(f\"\"\"{'index'.ljust(10)} {'nb_evol'.ljust(10)} {'z_dim'.ljust(10)} \n",
    "            \"\"\")\n",
    "\n",
    "# lrs      = [1.e-5,1.e-4]\n",
    "z_dims   = [8,16,32]\n",
    "nb_evols = [8,16,32]\n",
    "\n",
    "x=1\n",
    "for nb_evol in nb_evols:\n",
    "    # for lr in lrs:\n",
    "    for z_dim in z_dims:\n",
    "    \n",
    "        print(x)\n",
    "        ## WRITE INPUT FILE\n",
    "        with open(f\"/STER/silkem/MACE/input/grid2/grid_{x}.in\", \"w\") as file:\n",
    "            file.write(f\"\"\"\n",
    "## input model\n",
    "\n",
    "lr          = 1.e-4\n",
    "ini_epochs  = 5\n",
    "tot_epochs  = 250\n",
    "nb_epochs   = 151\n",
    "losstype    = mse_idn\n",
    "z_dim       = {z_dim}\n",
    "nb_samples  = 10000\n",
    "nb_evol     = {nb_evol}\n",
    "\n",
    "nb_hidden = 1\n",
    "ae_type = simple\n",
    "\n",
    "## loss fractions\n",
    "\n",
    "mse1 = 1\n",
    "rel1 = 0 \n",
    "evo1 = 0\n",
    "idn1 = 1\n",
    "\n",
    "mse2 = 100\n",
    "rel2 = 0\n",
    "evo2 = 0\n",
    "idn2 = 100\n",
    "\"\"\"\n",
    ")\n",
    "                # Write overview file\n",
    "        with open(f\"/STER/silkem/MACE/input/grid2/overview.txt\", \"a\") as file:\n",
    "            file.write(f\"\"\"{str(x).ljust(10)} {str(nb_evol).ljust(10)} {str(z_dim).ljust(10)}  \\n\"\"\")\n",
    "                        \n",
    "        x+=1"
   ]
  },
  {
   "cell_type": "code",
   "execution_count": 7,
   "metadata": {},
   "outputs": [],
   "source": [
    "m = [11,11,11,22,22,22,33,33,33,44,44,44]\n",
    "d = [8,16,32,8,16,32,8,16,32,8,16,32]"
   ]
  },
  {
   "cell_type": "code",
   "execution_count": 10,
   "metadata": {},
   "outputs": [
    {
     "data": {
      "text/plain": [
       "Text(0.5, 0, 'm')"
      ]
     },
     "execution_count": 10,
     "metadata": {},
     "output_type": "execute_result"
    },
    {
     "data": {
      "image/png": "[encoded data removed]",
      "text/plain": [
       "<Figure size 640x480 with 1 Axes>"
      ]
     },
     "metadata": {},
     "output_type": "display_data"
    }
   ],
   "source": [
    "plt.plot(m,d, 'x')\n",
    "plt.ylabel('d')\n",
    "plt.xlabel('m')"
   ]
  }
 ],
 "metadata": {
  "kernelspec": {
   "display_name": "magritte",
   "language": "python",
   "name": "python3"
  },
  "language_info": {
   "codemirror_mode": {
    "name": "ipython",
    "version": 3
   },
   "file_extension": ".py",
   "mimetype": "text/x-python",
   "name": "python",
   "nbconvert_exporter": "python",
   "pygments_lexer": "ipython3",
   "version": "3.10.13"
  }
 },
 "nbformat": 4,
 "nbformat_minor": 2
}
