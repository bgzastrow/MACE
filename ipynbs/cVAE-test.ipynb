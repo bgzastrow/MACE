{
 "cells": [
  {
   "cell_type": "markdown",
   "id": "7f8a476e-7c8a-4638-b243-f6a033652b5c",
   "metadata": {
    "tags": []
   },
   "source": [
    "# PyTorch implementation of the cVAE\n",
    "---"
   ]
  },
  {
   "cell_type": "code",
   "execution_count": 1,
   "id": "2eff996b-68aa-47f4-bd97-e3df4495f32c",
   "metadata": {
    "tags": []
   },
   "outputs": [],
   "source": [
    "import torch\n",
    "import torch.nn          as nn\n",
    "import numpy             as np\n",
    "import matplotlib.pyplot as plt\n",
    "\n",
    "from torch.utils.data import Dataset, DataLoader\n",
    "from torch.optim      import Adam\n",
    "from tqdm             import tqdm\n",
    "from ipywidgets       import interact\n",
    "\n",
    "plt.rcParams['figure.dpi'] = 150"
   ]
  },
  {
   "cell_type": "code",
   "execution_count": 2,
   "id": "291479e2-aecb-4995-82d4-3c5983802d04",
   "metadata": {},
   "outputs": [],
   "source": [
    "# Model Hyperparameters\n",
    "cuda   = False\n",
    "DEVICE = torch.device(\"cuda\" if cuda else \"cpu\")\n",
    "\n",
    "batch_size = 100\n",
    "\n",
    "lr = 1e-3\n",
    "\n",
    "epochs = 30"
   ]
  },
  {
   "cell_type": "code",
   "execution_count": null,
   "id": "3f2ea7ab-6042-4804-8f73-693e8e9f5120",
   "metadata": {},
   "outputs": [],
   "source": [
    "def models_data_transform(self, x):\n",
    "    # Take log10\n",
    "    x = np.log10(x)\n",
    "    self.models_mean = np.mean(x)\n",
    "    # Normalise\n",
    "    x = (x - np.mean(x)) / np.std(x)\n",
    "    # Return result\n",
    "    return x\n",
    "\n",
    "def inverse_models_data_transform(x):"
   ]
  },
  {
   "cell_type": "code",
   "execution_count": 131,
   "id": "a158ece5-c20f-42bd-9c76-f0628e3c03b8",
   "metadata": {
    "tags": []
   },
   "outputs": [],
   "source": [
    "class MyDataset(Dataset):\n",
    "    def __init__(self, models_file, I_outs_file, train=True, fraction=0.9):\n",
    "        \n",
    "        self.models_file = models_file\n",
    "        self.I_outs_file = I_outs_file\n",
    "        \n",
    "        # Load data\n",
    "        self.I_out = self.model()\n",
    "        self.model = self.I_out()\n",
    "        \n",
    "        # Select relevant data\n",
    "        self.I = self.I_out\n",
    "        self.η = self.model[:, 0]\n",
    "        \n",
    "        # Take log10 and clip\n",
    "        self.I = np.clip(np.log10(self.I), -20.0, np.inf)\n",
    "        self.η = np.clip(np.log10(self.η), -20.0, np.inf)\n",
    "        \n",
    "        # Normalise\n",
    "        self.I = (self.I - np.mean(self.I)) / np.std(self.I)\n",
    "        self.η = (self.η - np.mean(self.η)) / np.std(self.η)\n",
    "        \n",
    "        # Set type\n",
    "        self.I = self.I.astype(np.float32)\n",
    "        self.η = self.η.astype(np.float32)\n",
    "        \n",
    "        N = int(fraction * self.I.shape[0])\n",
    "        \n",
    "        if train:\n",
    "            # Take fraction of the data\n",
    "            self.I = self.I[:N]\n",
    "            self.η = self.η[:N]\n",
    "        else:\n",
    "            # Take 1-fraction of the data \n",
    "            self.I = self.I[N:]\n",
    "            self.η = self.η[N:]\n",
    "\n",
    "    def model(self):\n",
    "        return np.load(models_file)\n",
    "    \n",
    "    def I_out(self):\n",
    "        return np.load(I_outs_file)\n",
    "            \n",
    "    def __len__(self):\n",
    "        return self.I.shape[0]\n",
    "\n",
    "    def __getitem__(self, idx):\n",
    "        return self.I[idx], self.η[idx]"
   ]
  },
  {
   "cell_type": "code",
   "execution_count": 132,
   "id": "7287e632-b683-4923-a9ef-11a754789734",
   "metadata": {},
   "outputs": [],
   "source": [
    "train_data = MyDataset('data/Models/model.npy', 'data/Models/I_out.npy', train=True,  fraction=0.8)\n",
    "valid_data = MyDataset('data/Models/model.npy', 'data/Models/I_out.npy', train=False, fraction=0.8)\n",
    "\n",
    "kwargs = {'num_workers': 1, 'pin_memory': True} \n",
    "\n",
    "train_loader = DataLoader(dataset=train_data, batch_size=batch_size, shuffle=True,  **kwargs)\n",
    "valid_loader = DataLoader(dataset=valid_data, batch_size=batch_size, shuffle=False, **kwargs)"
   ]
  },
  {
   "cell_type": "code",
   "execution_count": 5,
   "id": "6a389f78-d04d-4e2b-9995-2a18456bb363",
   "metadata": {},
   "outputs": [],
   "source": [
    "N_depth = train_data.η.shape[1]\n",
    "N_freqs = train_data.I.shape[1]"
   ]
  },
  {
   "cell_type": "code",
   "execution_count": 6,
   "id": "a660ffc7-c337-4c65-ac9a-f8465d6c09d2",
   "metadata": {},
   "outputs": [
    {
     "name": "stderr",
     "output_type": "stream",
     "text": [
      "  0%|                                                                   | 0/200 [00:00<?, ?it/s]\n"
     ]
    }
   ],
   "source": [
    "for batch_idx, (I, η) in enumerate(tqdm(valid_loader)):\n",
    "    I = I.view(batch_size, N_freqs)\n",
    "    η = η.view(batch_size, N_depth)\n",
    "    break"
   ]
  },
  {
   "cell_type": "code",
   "execution_count": 20,
   "id": "f2d47d3c-62ef-4485-9829-4faca543a44e",
   "metadata": {},
   "outputs": [
    {
     "data": {
      "application/vnd.jupyter.widget-view+json": {
       "model_id": "e8d266fb4112403ea009a64b642db911",
       "version_major": 2,
       "version_minor": 0
      },
      "text/plain": [
       "interactive(children=(IntSlider(value=49, description='i', max=99), Output()), _dom_classes=('widget-interact'…"
      ]
     },
     "metadata": {},
     "output_type": "display_data"
    },
    {
     "data": {
      "text/plain": [
       "<function __main__.<lambda>(i)>"
      ]
     },
     "execution_count": 20,
     "metadata": {},
     "output_type": "execute_result"
    }
   ],
   "source": [
    "interact(lambda i: plt.plot(η[i]), i=(0, batch_size-1))"
   ]
  },
  {
   "cell_type": "code",
   "execution_count": 8,
   "id": "9d96da5a-8bf5-4d28-a3c9-ea99ac893c03",
   "metadata": {},
   "outputs": [
    {
     "data": {
      "application/vnd.jupyter.widget-view+json": {
       "model_id": "55363fdb080644e0ab5046e1a67eb253",
       "version_major": 2,
       "version_minor": 0
      },
      "text/plain": [
       "interactive(children=(IntSlider(value=49, description='i', max=99), Output()), _dom_classes=('widget-interact'…"
      ]
     },
     "metadata": {},
     "output_type": "display_data"
    },
    {
     "data": {
      "text/plain": [
       "<function __main__.<lambda>(i)>"
      ]
     },
     "execution_count": 8,
     "metadata": {},
     "output_type": "execute_result"
    }
   ],
   "source": [
    "interact(lambda i: plt.plot(I[i]), i=(0, batch_size-1))"
   ]
  },
  {
   "cell_type": "code",
   "execution_count": 9,
   "id": "48cf10b8-7cdc-422e-ab02-d049a7322659",
   "metadata": {},
   "outputs": [],
   "source": [
    "class q_NN(nn.Module):\n",
    "    \"\"\"\n",
    "    \"Posterior Network\" q(l|m): giving the distribution over the latent variable, given a model.\n",
    "    \"\"\"\n",
    "    def __init__(self, input_dim, hidden_dim, latent_dim):\n",
    "        super(Encoder, self).__init__()\n",
    "\n",
    "        self.FC_input  = nn.Linear( input_dim, hidden_dim)\n",
    "        self.FC_input2 = nn.Linear(hidden_dim, hidden_dim)\n",
    "        self.FC_mean   = nn.Linear(hidden_dim, latent_dim)\n",
    "        self.FC_var    = nn.Linear(hidden_dim, latent_dim)\n",
    "        \n",
    "        self.LeakyReLU = nn.LeakyReLU(0.2)\n",
    "        \n",
    "        self.training = True\n",
    "        \n",
    "        \n",
    "    def forward(self, x):\n",
    "        h_       = self.LeakyReLU(self.FC_input(x))\n",
    "        h_       = self.LeakyReLU(self.FC_input2(h_))\n",
    "        mean     = self.FC_mean(h_)\n",
    "        log_var  = self.FC_var(h_)\n",
    "        \n",
    "        # encoder produces mean and log of variance \n",
    "        # (i.e., parateters of simple tractable normal distribution \"q\"\n",
    "        \n",
    "        return mean, log_var"
   ]
  },
  {
   "cell_type": "code",
   "execution_count": 10,
   "id": "9ec97da6-acf4-4a3d-a245-1f33872a9118",
   "metadata": {
    "tags": []
   },
   "outputs": [],
   "source": [
    "class Encoder(nn.Module):\n",
    "    \"\"\"\n",
    "    Encoder network.\n",
    "    \"\"\"\n",
    "    def __init__(self, input_dim, hidden_dim, latent_dim):\n",
    "        super(Encoder, self).__init__()\n",
    "\n",
    "        self.FC_input  = nn.Linear( input_dim, hidden_dim)\n",
    "        self.FC_input2 = nn.Linear(hidden_dim, hidden_dim)\n",
    "        self.FC_input3 = nn.Linear(hidden_dim, hidden_dim)\n",
    "        self.FC_mean   = nn.Linear(hidden_dim, latent_dim)\n",
    "        self.FC_var    = nn.Linear(hidden_dim, latent_dim)\n",
    "        \n",
    "        self.LeakyReLU = nn.LeakyReLU(0.2)\n",
    "        # self.tanh      = nn.Tanh()\n",
    "        \n",
    "    def forward(self, I):\n",
    "        h       = self.LeakyReLU(self.FC_input (I))\n",
    "        h       = self.LeakyReLU(self.FC_input2(h))\n",
    "        h       = self.LeakyReLU(self.FC_input3(h))\n",
    "        mean    = self.FC_mean(h)\n",
    "        log_var = self.FC_var (h)\n",
    "        \n",
    "        return mean, log_var\n",
    "    \n",
    "    \n",
    "class Decoder(nn.Module):\n",
    "    \"\"\"\n",
    "    Decoder network.\n",
    "    \"\"\"\n",
    "    def __init__(self, latent_dim, hidden_dim, output_dim):\n",
    "        super(Decoder, self).__init__()\n",
    "        \n",
    "        self.FC_hidden  = nn.Linear(latent_dim, hidden_dim)\n",
    "        self.FC_hidden2 = nn.Linear(hidden_dim, hidden_dim)\n",
    "        self.FC_hidden3 = nn.Linear(hidden_dim, hidden_dim)\n",
    "        self.FC_output  = nn.Linear(hidden_dim, output_dim)\n",
    "        \n",
    "        self.LeakyReLU = nn.LeakyReLU(0.2)\n",
    "        # self.tanh      = nn.Tanh()\n",
    "        \n",
    "    def forward(self, z):\n",
    "        h = self.LeakyReLU(self.FC_hidden (z))\n",
    "        h = self.LeakyReLU(self.FC_hidden2(h))\n",
    "        h = self.LeakyReLU(self.FC_hidden3(h))\n",
    "        \n",
    "        η = self.FC_output(h)\n",
    "        \n",
    "        return η\n",
    "    \n",
    "    \n",
    "class Model(nn.Module):\n",
    "    \"\"\"\n",
    "    Variational Autoencoder\n",
    "    \"\"\"\n",
    "    def __init__(self, Encoder, Decoder):\n",
    "        super(Model, self).__init__()\n",
    "        \n",
    "        self.Encoder = Encoder\n",
    "        self.Decoder = Decoder\n",
    "        \n",
    "        \n",
    "    def reparameterization(self, mean, var):\n",
    "        epsilon = torch.randn_like(var).to(DEVICE)   # sampling epsilon        \n",
    "        z = mean #+ var * epsilon                     # reparameterization trick\n",
    "        return z\n",
    "        \n",
    "                \n",
    "    def forward(self, I):\n",
    "        mean, log_var = self.Encoder(I)\n",
    "        z             = self.reparameterization(mean, torch.exp(0.5 * log_var)) # takes exponential function (log var -> var)\n",
    "        η             = self.Decoder(z)\n",
    "        \n",
    "        return η, mean, log_var"
   ]
  },
  {
   "cell_type": "code",
   "execution_count": 39,
   "id": "a33251dd-58a5-47f3-888a-b3edb3172a9a",
   "metadata": {},
   "outputs": [
    {
     "data": {
      "text/plain": [
       "(2,)"
      ]
     },
     "execution_count": 39,
     "metadata": {},
     "output_type": "execute_result"
    }
   ],
   "source": [
    "nn.Conv1d(1, 4, 4, 2).stride"
   ]
  },
  {
   "cell_type": "code",
   "execution_count": 48,
   "id": "7b275158-46eb-4f12-a2c1-1420c2e9d440",
   "metadata": {},
   "outputs": [],
   "source": [
    "def Conv1d_L_out(L_in, cnns):\n",
    "    \n",
    "    L_out = L_in\n",
    "\n",
    "    for cnn in cnns:\n",
    "        L_out = np.floor((L_out + 2 * cnn.padding[0] - cnn.dilation[0] * (cnn.kernel_size[0] - 1) - 1) / cnn.stride[0] + 1)\n",
    "    \n",
    "    return int(L_out)"
   ]
  },
  {
   "cell_type": "code",
   "execution_count": 123,
   "id": "f2440601-dbc5-47e9-ae26-bd65f3401b8b",
   "metadata": {},
   "outputs": [
    {
     "data": {
      "text/plain": [
       "13"
      ]
     },
     "execution_count": 123,
     "metadata": {},
     "output_type": "execute_result"
    }
   ],
   "source": [
    "Conv1d_L_out(13, [nn.Conv1d(1, 4, 5, 1, 2)])"
   ]
  },
  {
   "cell_type": "code",
   "execution_count": 54,
   "id": "27f164a1-2e4a-4fb2-bb1e-a159350bf8a0",
   "metadata": {},
   "outputs": [
    {
     "data": {
      "text/plain": [
       "80"
      ]
     },
     "execution_count": 54,
     "metadata": {},
     "output_type": "execute_result"
    }
   ],
   "source": [
    "N_freqs"
   ]
  },
  {
   "cell_type": "code",
   "execution_count": 61,
   "id": "7e6c3a6f-10da-4cf3-bf9b-4b151fb62b58",
   "metadata": {},
   "outputs": [
    {
     "data": {
      "text/plain": [
       "66"
      ]
     },
     "execution_count": 61,
     "metadata": {},
     "output_type": "execute_result"
    }
   ],
   "source": [
    "Conv1d_L_out(N_freqs, [nn.Conv1d(1, 6, 8, 1), nn.Conv1d(6, 1, 8, 1)])"
   ]
  },
  {
   "cell_type": "code",
   "execution_count": 112,
   "id": "7da05ba7-114b-472a-be53-eff759705a3d",
   "metadata": {},
   "outputs": [
    {
     "data": {
      "text/plain": [
       "10"
      ]
     },
     "execution_count": 112,
     "metadata": {},
     "output_type": "execute_result"
    }
   ],
   "source": [
    "Conv1d_L_out(10, [nn.Conv1d(1, 1, 1, 1)])"
   ]
  },
  {
   "cell_type": "code",
   "execution_count": 89,
   "id": "d1413500-372b-41f6-843a-e010f8afa121",
   "metadata": {},
   "outputs": [
    {
     "ename": "IndexError",
     "evalue": "Dimension out of range (expected to be in range of [-2, 1], but got 2)",
     "output_type": "error",
     "traceback": [
      "\u001b[0;31m---------------------------------------------------------------------------\u001b[0m",
      "\u001b[0;31mIndexError\u001b[0m                                Traceback (most recent call last)",
      "Cell \u001b[0;32mIn [89], line 1\u001b[0m\n\u001b[0;32m----> 1\u001b[0m \u001b[43mI\u001b[49m\u001b[38;5;241;43m.\u001b[39;49m\u001b[43msize\u001b[49m\u001b[43m(\u001b[49m\u001b[38;5;241;43m2\u001b[39;49m\u001b[43m)\u001b[49m\n",
      "\u001b[0;31mIndexError\u001b[0m: Dimension out of range (expected to be in range of [-2, 1], but got 2)"
     ]
    }
   ],
   "source": [
    "I.size(2)"
   ]
  },
  {
   "cell_type": "code",
   "execution_count": 124,
   "id": "3166c54b-d865-4e45-9e78-bdca11264789",
   "metadata": {
    "tags": []
   },
   "outputs": [],
   "source": [
    "class CNN_Encoder(nn.Module):\n",
    "    \"\"\"\n",
    "    Encoder network, using convolutional layers.\n",
    "    \"\"\"\n",
    "    def __init__(self, input_dim, hidden_dim, latent_dim):\n",
    "        super(CNN_Encoder, self).__init__()\n",
    "\n",
    "        self.Conv1d_1 = nn.Conv1d(in_channels=1, out_channels=6, kernel_size=5, stride=1, padding=2)\n",
    "        self.Conv1d_2 = nn.Conv1d(in_channels=6, out_channels=1, kernel_size=5, stride=1, padding=2)\n",
    "        \n",
    "        L_out = Conv1d_L_out(input_dim, [self.Conv1d_1, self.Conv1d_2])\n",
    "        \n",
    "        self.Linear_1    = nn.Linear(L_out,      hidden_dim)\n",
    "        self.Linear_2    = nn.Linear(hidden_dim, hidden_dim)\n",
    "        self.Linear_mean = nn.Linear(hidden_dim, latent_dim)\n",
    "        self.Linear_lvar = nn.Linear(hidden_dim, latent_dim)\n",
    "        \n",
    "        self.LeakyReLU = nn.LeakyReLU(0.2)\n",
    "\n",
    "        \n",
    "    def forward(self, I):\n",
    "        \n",
    "        I = I.reshape(I.size(0), 1, I.size(1))\n",
    "        \n",
    "        h = self.Conv1d_1(I)\n",
    "        h = self.Conv1d_2(h)\n",
    "\n",
    "        h = h.reshape(h.size(0), -1)\n",
    "        \n",
    "        h = self.LeakyReLU(self.Linear_1(h))\n",
    "        h = self.LeakyReLU(self.Linear_2(h))\n",
    "        \n",
    "        mean = self.LeakyReLU(self.Linear_mean(h))\n",
    "        lvar = self.LeakyReLU(self.Linear_lvar(h))\n",
    "    \n",
    "        return mean, lvar\n",
    "    \n",
    "    \n",
    "class CNN_Decoder(nn.Module):\n",
    "    \"\"\"\n",
    "    Decoder network, using convolutional layers.\n",
    "    \"\"\"\n",
    "    def __init__(self, latent_dim, hidden_dim, output_dim):\n",
    "        super(CNN_Decoder, self).__init__()\n",
    "        \n",
    "        self.Conv1d_1 = nn.Conv1d(in_channels=1, out_channels=6, kernel_size=5, stride=1, padding=2)\n",
    "        self.Conv1d_2 = nn.Conv1d(in_channels=6, out_channels=1, kernel_size=5, stride=1, padding=2)\n",
    "      \n",
    "        L_out = Conv1d_L_out(latent_dim, [self.Conv1d_1, self.Conv1d_2])\n",
    "    \n",
    "        self.Linear_1 = nn.Linear(L_out, output_dim)\n",
    "        \n",
    "        self.LeakyReLU = nn.LeakyReLU(0.2)\n",
    "        \n",
    "    def forward(self, z):\n",
    "        \n",
    "        # z = z.reshape(z.size(0), 1, z.size(1))\n",
    "        \n",
    "        z = z.reshape(z.size(0), 1, z.size(1))\n",
    "        \n",
    "        h = self.Conv1d_1(z)\n",
    "        h = self.Conv1d_2(h)\n",
    "        \n",
    "        h = h.reshape(h.size(0), -1)\n",
    "        \n",
    "        h = self.LeakyReLU(self.Linear_1(h))\n",
    "        \n",
    "        η = h\n",
    "        \n",
    "        return η\n",
    "    \n",
    "    \n",
    "class Model(nn.Module):\n",
    "    \"\"\"\n",
    "    Variational Autoencoder\n",
    "    \"\"\"\n",
    "    def __init__(self, Encoder, Decoder):\n",
    "        super(Model, self).__init__()\n",
    "        \n",
    "        self.Encoder = Encoder\n",
    "        self.Decoder = Decoder\n",
    "        \n",
    "        \n",
    "    def reparameterization(self, mean, var):\n",
    "        epsilon = torch.randn_like(var).to(DEVICE)   # sampling epsilon        \n",
    "        z = mean #+ var * epsilon                     # reparameterization trick\n",
    "        return z\n",
    "        \n",
    "                \n",
    "    def forward(self, I):\n",
    "        mean, log_var = self.Encoder(I)\n",
    "        z             = self.reparameterization(mean, torch.exp(0.5 * log_var)) # takes exponential function (log var -> var)\n",
    "        η             = self.Decoder(z)\n",
    "        \n",
    "        return η, mean, log_var"
   ]
  },
  {
   "cell_type": "code",
   "execution_count": 125,
   "id": "73865457-77ff-4d9f-9f49-a5b8bd30de4a",
   "metadata": {
    "tags": []
   },
   "outputs": [],
   "source": [
    "encoder = CNN_Encoder( input_dim=N_freqs, hidden_dim=N_freqs, latent_dim=N_depth)\n",
    "decoder = CNN_Decoder(latent_dim=N_depth, hidden_dim=N_depth, output_dim=N_depth)\n",
    "\n",
    "model = Model(Encoder=encoder, Decoder=decoder).to(DEVICE)\n",
    "\n",
    "\n",
    "# model = Model(input_dim=N_freqs, Decoder=decoder).to(DEVICE)"
   ]
  },
  {
   "cell_type": "code",
   "execution_count": 126,
   "id": "3825b4a5-fd1d-4e12-97e6-2671a878e1f8",
   "metadata": {},
   "outputs": [],
   "source": [
    "def loss_function(η, η_hat, mean, log_var):\n",
    "    reproduction_loss = nn.functional.mse_loss(η_hat, η)\n",
    "    KLD               = -0.5 * torch.sum(1.0 + log_var - mean.pow(2) - log_var.exp())\n",
    "    return reproduction_loss #+ 0.5*KLD"
   ]
  },
  {
   "cell_type": "code",
   "execution_count": 127,
   "id": "467d0e9b-0d2f-47c1-9e88-148f4f42a832",
   "metadata": {},
   "outputs": [],
   "source": [
    "# def loss_function(η, η_hat):\n",
    "#     return nn.functional.mse_loss(η_hat, η)"
   ]
  },
  {
   "cell_type": "code",
   "execution_count": 128,
   "id": "311261ea-6af0-435f-9305-0fed6521b4de",
   "metadata": {},
   "outputs": [
    {
     "name": "stdout",
     "output_type": "stream",
     "text": [
      "\tEpoch 1 complete! \tAverage Loss:  0.001354424984745672\n",
      "\tEpoch 2 complete! \tAverage Loss:  0.0003103168344402567\n",
      "\tEpoch 3 complete! \tAverage Loss:  0.00023059129832692454\n",
      "\tEpoch 4 complete! \tAverage Loss:  0.00019508747019116138\n",
      "\tEpoch 5 complete! \tAverage Loss:  0.0001665187180531823\n",
      "\tEpoch 6 complete! \tAverage Loss:  0.00014873623581036682\n",
      "\tEpoch 7 complete! \tAverage Loss:  0.00013468247311462523\n",
      "\tEpoch 8 complete! \tAverage Loss:  0.00012397465010515144\n",
      "\tEpoch 9 complete! \tAverage Loss:  0.00011472355228765997\n",
      "\tEpoch 10 complete! \tAverage Loss:  0.00010672861961962583\n",
      "\tEpoch 11 complete! \tAverage Loss:  0.00010059591925916295\n",
      "\tEpoch 12 complete! \tAverage Loss:  9.548630751902529e-05\n",
      "\tEpoch 13 complete! \tAverage Loss:  9.140281919949457e-05\n",
      "\tEpoch 14 complete! \tAverage Loss:  8.705841162905227e-05\n",
      "\tEpoch 15 complete! \tAverage Loss:  8.379710201192671e-05\n",
      "\tEpoch 16 complete! \tAverage Loss:  8.105451408983471e-05\n",
      "\tEpoch 17 complete! \tAverage Loss:  7.818223256967468e-05\n",
      "\tEpoch 18 complete! \tAverage Loss:  7.603155626788343e-05\n",
      "\tEpoch 19 complete! \tAverage Loss:  7.390234329724901e-05\n",
      "\tEpoch 20 complete! \tAverage Loss:  7.16467936510437e-05\n",
      "\tEpoch 21 complete! \tAverage Loss:  7.007603050420558e-05\n",
      "\tEpoch 22 complete! \tAverage Loss:  6.840446910288218e-05\n",
      "\tEpoch 23 complete! \tAverage Loss:  6.727130544512942e-05\n",
      "\tEpoch 24 complete! \tAverage Loss:  6.532194894226792e-05\n",
      "\tEpoch 25 complete! \tAverage Loss:  6.439984166756906e-05\n",
      "\tEpoch 26 complete! \tAverage Loss:  6.332279784425403e-05\n",
      "\tEpoch 27 complete! \tAverage Loss:  6.222733689847406e-05\n",
      "\tEpoch 28 complete! \tAverage Loss:  6.126417360269698e-05\n",
      "\tEpoch 29 complete! \tAverage Loss:  6.027423901697889e-05\n",
      "\tEpoch 30 complete! \tAverage Loss:  5.966582747283526e-05\n"
     ]
    }
   ],
   "source": [
    "optimizer = Adam(model.parameters(), lr=lr)\n",
    "\n",
    "\n",
    "model.train()\n",
    "\n",
    "for epoch in range(epochs):\n",
    "    \n",
    "    overall_loss = 0\n",
    "    \n",
    "    for batch_idx, (I, η) in enumerate(train_loader):\n",
    "        # I = I.view(batch_size, N_freqs)\n",
    "        # η = η.view(batch_size, N_depth)\n",
    "        \n",
    "        I = I.to(DEVICE)\n",
    "        η = η.to(DEVICE)\n",
    "\n",
    "        η_hat, mean, log_var = model(I)\n",
    "        loss                 = loss_function(η, η_hat, mean, log_var)\n",
    "        # loss                 = loss_function(η, η_hat)\n",
    "        \n",
    "        overall_loss += loss.item()\n",
    "\n",
    "        # Backpropagation\n",
    "        optimizer.zero_grad()\n",
    "        loss.backward()\n",
    "        optimizer.step()\n",
    "        \n",
    "    print(\"\\tEpoch\", epoch + 1, \"complete!\", \"\\tAverage Loss: \", overall_loss / (batch_idx*batch_size))"
   ]
  },
  {
   "cell_type": "code",
   "execution_count": 129,
   "id": "c28cb7d2-a65c-4842-8f73-514e461cc7a4",
   "metadata": {},
   "outputs": [
    {
     "name": "stderr",
     "output_type": "stream",
     "text": [
      "  0%|                                                                   | 0/200 [00:00<?, ?it/s]\n"
     ]
    }
   ],
   "source": [
    "model.eval()\n",
    "\n",
    "with torch.no_grad():\n",
    "    \n",
    "    for batch_idx, (I, η) in enumerate(tqdm(valid_loader)):\n",
    "        I = I.view(batch_size, N_freqs)\n",
    "        η = η.view(batch_size, N_depth)\n",
    "        I = I.to(DEVICE)\n",
    "        η = η.to(DEVICE)\n",
    "        \n",
    "        η_hat, _, _ = model(I)\n",
    "\n",
    "        break"
   ]
  },
  {
   "cell_type": "code",
   "execution_count": null,
   "id": "46984099-8e08-4141-adff-478e834e4bfd",
   "metadata": {},
   "outputs": [],
   "source": [
    "def inverse_model(I):\n",
    "    \n",
    "    return"
   ]
  },
  {
   "cell_type": "code",
   "execution_count": null,
   "id": "6d2341ea-a63d-4425-ac3a-acae104f9733",
   "metadata": {},
   "outputs": [],
   "source": []
  },
  {
   "cell_type": "code",
   "execution_count": 130,
   "id": "ea03d9db-769b-49be-9328-02e7da097eac",
   "metadata": {},
   "outputs": [
    {
     "data": {
      "application/vnd.jupyter.widget-view+json": {
       "model_id": "626c15033a824d199e7376c47ddb0126",
       "version_major": 2,
       "version_minor": 0
      },
      "text/plain": [
       "interactive(children=(IntSlider(value=49, description='i', max=99), Output()), _dom_classes=('widget-interact'…"
      ]
     },
     "metadata": {},
     "output_type": "display_data"
    },
    {
     "data": {
      "text/plain": [
       "<function __main__.plot(i)>"
      ]
     },
     "execution_count": 130,
     "metadata": {},
     "output_type": "execute_result"
    }
   ],
   "source": [
    "def plot(i):\n",
    "    plt.plot(η    [i])\n",
    "    plt.plot(η_hat[i])\n",
    "interact(plot, i=(0,batch_size-1))"
   ]
  },
  {
   "cell_type": "code",
   "execution_count": 21,
   "id": "a5bf3cc6-9e9b-4514-ac6a-6519e8dc3f70",
   "metadata": {},
   "outputs": [
    {
     "name": "stderr",
     "output_type": "stream",
     "text": [
      "  0%|                                                                   | 0/800 [00:00<?, ?it/s]\n"
     ]
    }
   ],
   "source": [
    "model.eval()\n",
    "\n",
    "with torch.no_grad():\n",
    "    \n",
    "    for batch_idx, (I, η) in enumerate(tqdm(train_loader)):\n",
    "        I = I.view(batch_size, N_freqs)\n",
    "        η = η.view(batch_size, N_depth)\n",
    "        I = I.to(DEVICE)\n",
    "        η = η.to(DEVICE)\n",
    "        \n",
    "        η_hat, _, _ = model(I)\n",
    "\n",
    "        break"
   ]
  },
  {
   "cell_type": "code",
   "execution_count": 22,
   "id": "c4311fc1-51ad-4739-903c-1f71fc937a40",
   "metadata": {},
   "outputs": [
    {
     "data": {
      "application/vnd.jupyter.widget-view+json": {
       "model_id": "cc827929570a44d9a2d6286d717533c0",
       "version_major": 2,
       "version_minor": 0
      },
      "text/plain": [
       "interactive(children=(IntSlider(value=49, description='i', max=99), Output()), _dom_classes=('widget-interact'…"
      ]
     },
     "metadata": {},
     "output_type": "display_data"
    },
    {
     "data": {
      "text/plain": [
       "<function __main__.plot(i)>"
      ]
     },
     "execution_count": 22,
     "metadata": {},
     "output_type": "execute_result"
    }
   ],
   "source": [
    "def plot(i):\n",
    "    plt.plot(η    [i])\n",
    "    plt.plot(η_hat[i])\n",
    "interact(plot, i=(0,batch_size-1))"
   ]
  },
  {
   "cell_type": "code",
   "execution_count": 72,
   "id": "0db2360b-9cd5-401c-9d86-f66603585610",
   "metadata": {},
   "outputs": [
    {
     "data": {
      "text/plain": [
       "tensor(1.0986)"
      ]
     },
     "execution_count": 72,
     "metadata": {},
     "output_type": "execute_result"
    }
   ],
   "source": [
    "η_hat.max()"
   ]
  },
  {
   "cell_type": "code",
   "execution_count": null,
   "id": "ba59d2b0-9c28-4e0e-83dc-85f325b9dec0",
   "metadata": {},
   "outputs": [],
   "source": []
  }
 ],
 "metadata": {
  "kernelspec": {
   "display_name": "Python 3 (ipykernel)",
   "language": "python",
   "name": "python3"
  },
  "language_info": {
   "codemirror_mode": {
    "name": "ipython",
    "version": 3
   },
   "file_extension": ".py",
   "mimetype": "text/x-python",
   "name": "python",
   "nbconvert_exporter": "python",
   "pygments_lexer": "ipython3",
   "version": "3.10.6"
  }
 },
 "nbformat": 4,
 "nbformat_minor": 5
}
