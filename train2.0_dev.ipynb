{
 "cells": [
  {
   "cell_type": "code",
   "execution_count": 45,
   "metadata": {},
   "outputs": [],
   "source": [
    "import numpy             as np\n",
    "import matplotlib.pyplot as plt\n",
    "import matplotlib        as mpl\n",
    "import sys\n",
    "import json\n",
    "# import tqdm\n",
    "import torch\n",
    "from torch.optim  import Adam\n",
    "\n",
    "from torch.utils.tensorboard import SummaryWriter\n",
    "\n",
    "from matplotlib          import rcParams\n",
    "rcParams.update({'figure.dpi': 200})\n",
    "mpl.rcParams.update({'font.size': 8})\n",
    "plt.rcParams['figure.dpi'] = 150\n",
    "\n",
    "## import own functions\n",
    "sys.path.insert(1, '/STER/silkem/MACE/src/mace')\n",
    "import src.mace.autoencoder  as ae\n",
    "import src.mace.CSE_0D.dataset      as ds\n",
    "import src.mace.CSE_0D.train        as tr\n",
    "import src.mace.neuralODE    as nODE\n",
    "from src.mace.CSE_0D.loss           import Loss\n",
    "from src.mace.plotting  import plot_loss\n",
    "import src.mace.utils as utils\n",
    "\n",
    "\n",
    "%reload_ext autoreload\n",
    "%autoreload 2"
   ]
  },
  {
   "cell_type": "code",
   "execution_count": 2,
   "metadata": {},
   "outputs": [],
   "source": [
    "inputdirs = np.loadtxt('data/paths_data_C.txt', dtype=str)"
   ]
  },
  {
   "cell_type": "markdown",
   "metadata": {},
   "source": [
    "### Retrieving the min & max values of the dataset"
   ]
  },
  {
   "cell_type": "code",
   "execution_count": 79,
   "metadata": {},
   "outputs": [
    {
     "name": "stdout",
     "output_type": "stream",
     "text": [
      "18313\r"
     ]
    }
   ],
   "source": [
    "## density\n",
    "rho_min = np.inf\n",
    "rho_max = 0\n",
    "## temperature\n",
    "T_max = 0\n",
    "## delta\n",
    "delta_min = np.inf\n",
    "delta_max = 0\n",
    "## Av\n",
    "Av_min = np.inf\n",
    "Av_max = 0\n",
    "\n",
    "dt_max = 0\n",
    "\n",
    "\n",
    "lens = dict()\n",
    "\n",
    "for i, path in enumerate(inputdirs):\n",
    "    print(i, end='\\r')\n",
    "\n",
    "    mod = ds.CSEmod(path)\n",
    "\n",
    "    ## check the length of the model\n",
    "    if len(mod) != 135:\n",
    "        lens[i] = len(mod)\n",
    "    \n",
    "    ## check the min and max of the parameters\n",
    "    ## density\n",
    "    rho_min_mod = min(mod.get_dens())\n",
    "    rho_max_mod = max(mod.get_dens())\n",
    "    if rho_min_mod < rho_min:\n",
    "        rho_min = rho_min_mod\n",
    "    if rho_max_mod > rho_max:\n",
    "        rho_max = rho_max_mod\n",
    "    ## Av\n",
    "    Av_min_mod = min(mod.get_Av())\n",
    "    Av_max_mod = max(mod.get_Av())\n",
    "    if Av_min_mod < Av_min:\n",
    "        Av_min = Av_min_mod\n",
    "    if Av_max_mod > Av_max:\n",
    "        Av_max = Av_max_mod\n",
    "    ## temperature\n",
    "    T_max_mod = max(mod.get_temp())\n",
    "    if T_max_mod > T_max:\n",
    "        T_max = T_max_mod\n",
    "    ## delta\n",
    "    delta_min_mod = min(mod.get_delta())\n",
    "    delta_max_mod = max(mod.get_delta())\n",
    "    if delta_min_mod < delta_min:\n",
    "        delta_min = delta_min_mod\n",
    "    if delta_max_mod > delta_max:\n",
    "        delta_max = delta_max_mod\n",
    "\n",
    "    ## dt\n",
    "    dt_max_mod = max(mod.get_dt())\n",
    "    if dt_max_mod > dt_max:\n",
    "        dt_max = dt_max_mod\n",
    "\n",
    "    \n"
   ]
  },
  {
   "cell_type": "code",
   "execution_count": 80,
   "metadata": {},
   "outputs": [
    {
     "name": "stdout",
     "output_type": "stream",
     "text": [
      "dens: 0.008223 5009000000.0\n",
      "temp: 10 1851.0\n",
      "delta 0.0 0.9999\n",
      "Av 2.141e-05 1246.0\n",
      "dt 434800000000.0\n"
     ]
    }
   ],
   "source": [
    "## density\n",
    "print('dens:',rho_min, rho_max)\n",
    "## temperature\n",
    "print('temp: 10',T_max)\n",
    "## delta\n",
    "print('delta',delta_min, delta_max)\n",
    "## Av\n",
    "print('Av',Av_min, Av_max)\n",
    "\n",
    "print('dt',dt_max)"
   ]
  },
  {
   "cell_type": "code",
   "execution_count": 83,
   "metadata": {},
   "outputs": [],
   "source": [
    "meta = {'dens_min': rho_min,\n",
    "        'dens_max': rho_max,\n",
    "        'temp_min': 10.,\n",
    "        'temp_max': T_max,\n",
    "        'delta_min': delta_min,\n",
    "        'delta_max': delta_max,\n",
    "        'Av_min': Av_min,\n",
    "        'Av_max': Av_max,\n",
    "        'dt_max': dt_max\n",
    "        }\n",
    "\n",
    "\n",
    "json_object = json.dumps(meta, indent=4)\n",
    "with open(\"/STER/silkem/MACE/data/minmax.json\", \"w\") as outfile:\n",
    "    outfile.write(json_object)"
   ]
  },
  {
   "cell_type": "markdown",
   "metadata": {},
   "source": [
    "### Testing the dataset class"
   ]
  },
  {
   "cell_type": "code",
   "execution_count": 41,
   "metadata": {},
   "outputs": [],
   "source": [
    "mod = ds.CSEmod(inputdirs[18241])\n",
    "dt,n,p = mod.split_in_0D()"
   ]
  },
  {
   "cell_type": "code",
   "execution_count": 41,
   "metadata": {},
   "outputs": [
    {
     "data": {
      "text/plain": [
       "((80,), (81, 468), (80, 4))"
      ]
     },
     "execution_count": 41,
     "metadata": {},
     "output_type": "execute_result"
    }
   ],
   "source": [
    "dt.shape, n.shape, p.shape"
   ]
  },
  {
   "cell_type": "code",
   "execution_count": 42,
   "metadata": {},
   "outputs": [
    {
     "data": {
      "text/plain": [
       "(81, 468)"
      ]
     },
     "execution_count": 42,
     "metadata": {},
     "output_type": "execute_result"
    }
   ],
   "source": [
    "n = n.reshape(81,468)\n",
    "n.shape"
   ]
  },
  {
   "cell_type": "code",
   "execution_count": 44,
   "metadata": {},
   "outputs": [
    {
     "data": {
      "text/plain": [
       "((80, 468), (80, 468))"
      ]
     },
     "execution_count": 44,
     "metadata": {},
     "output_type": "execute_result"
    }
   ],
   "source": [
    "n[:-1].shape, n[1:].shape"
   ]
  },
  {
   "cell_type": "code",
   "execution_count": 7,
   "metadata": {},
   "outputs": [
    {
     "data": {
      "text/plain": [
       "(135, 81)"
      ]
     },
     "execution_count": 7,
     "metadata": {},
     "output_type": "execute_result"
    }
   ],
   "source": [
    "mod1 = ds.CSEmod(inputdirs[17982])\n",
    "mod2 = ds.CSEmod(inputdirs[18241])\n",
    "len(mod1), len(mod2)"
   ]
  },
  {
   "cell_type": "code",
   "execution_count": 90,
   "metadata": {},
   "outputs": [],
   "source": [
    "dt1, n1, p1 = mod1.split_in_0D()\n",
    "dt2, n2, p2 = mod2.split_in_0D()"
   ]
  },
  {
   "cell_type": "code",
   "execution_count": 91,
   "metadata": {},
   "outputs": [
    {
     "data": {
      "text/plain": [
       "((134,), (134, 468), (134, 4), (80,), (80, 468), (80, 4))"
      ]
     },
     "execution_count": 91,
     "metadata": {},
     "output_type": "execute_result"
    }
   ],
   "source": [
    "dt1.shape, n1.shape, p1.shape, dt2.shape, n2.shape, p2.shape\n"
   ]
  },
  {
   "cell_type": "code",
   "execution_count": 93,
   "metadata": {},
   "outputs": [
    {
     "data": {
      "text/plain": [
       "(214,)"
      ]
     },
     "execution_count": 93,
     "metadata": {},
     "output_type": "execute_result"
    }
   ],
   "source": [
    "h = np.concatenate((dt1, dt2), axis=0)\n",
    "h.shape"
   ]
  },
  {
   "cell_type": "code",
   "execution_count": 33,
   "metadata": {},
   "outputs": [],
   "source": [
    "def generate_random_numbers(n, start, end):\n",
    "    return np.random.randint(start, end, size=n)\n",
    "\n",
    "# Generate 10 random integers between 1 and 100\n",
    "random_numbers = generate_random_numbers(10, 1, 100)"
   ]
  },
  {
   "cell_type": "code",
   "execution_count": 68,
   "metadata": {},
   "outputs": [
    {
     "data": {
      "text/plain": [
       "array([7.226e-84, 1.930e-78, 2.241e-73, 1.196e-68, 3.093e-64, 4.071e-60,\n",
       "       2.854e-56, 1.113e-52, 2.514e-49, 3.414e-46, 2.887e-43, 1.570e-40,\n",
       "       5.665e-38, 1.393e-35, 2.396e-33, 2.953e-31, 2.664e-29, 1.795e-27,\n",
       "       9.210e-26, 3.659e-24, 1.144e-22, 2.860e-21, 5.795e-20, 9.643e-19,\n",
       "       1.335e-17, 1.555e-16, 1.542e-15, 1.315e-14, 9.743e-14, 6.327e-13,\n",
       "       3.634e-12, 1.861e-11, 8.565e-11, 3.569e-10, 1.355e-09, 4.723e-09,\n",
       "       1.519e-08, 4.532e-08, 1.262e-07, 3.294e-07, 8.095e-07, 1.881e-06,\n",
       "       4.147e-06, 8.708e-06, 1.747e-05, 3.356e-05, 6.195e-05, 1.101e-04,\n",
       "       1.890e-04, 3.137e-04, 5.047e-04, 7.888e-04, 1.200e-03, 1.778e-03,\n",
       "       2.573e-03, 3.641e-03, 5.045e-03, 6.855e-03, 9.145e-03, 1.199e-02,\n",
       "       1.548e-02, 1.968e-02, 2.468e-02, 3.053e-02, 3.732e-02, 4.508e-02,\n",
       "       5.388e-02, 6.373e-02, 7.465e-02, 8.666e-02, 9.974e-02, 1.139e-01,\n",
       "       1.290e-01, 1.451e-01, 1.622e-01, 1.800e-01, 1.987e-01, 2.180e-01,\n",
       "       2.380e-01, 2.585e-01, 2.795e-01, 3.008e-01, 3.225e-01, 3.443e-01,\n",
       "       3.663e-01, 3.883e-01, 4.103e-01, 4.322e-01, 4.540e-01, 4.756e-01,\n",
       "       4.968e-01, 5.178e-01, 5.384e-01, 5.586e-01, 5.783e-01, 5.975e-01,\n",
       "       6.162e-01, 6.344e-01, 6.520e-01, 6.690e-01, 6.854e-01, 7.013e-01,\n",
       "       7.165e-01, 7.312e-01, 7.452e-01, 7.586e-01, 7.715e-01, 7.838e-01,\n",
       "       7.956e-01, 8.068e-01, 8.175e-01, 8.276e-01, 8.373e-01, 8.465e-01,\n",
       "       8.553e-01, 8.636e-01, 8.715e-01, 8.789e-01, 8.860e-01, 8.927e-01,\n",
       "       8.991e-01, 9.051e-01, 9.108e-01, 9.162e-01, 9.212e-01, 9.260e-01,\n",
       "       9.306e-01, 9.348e-01, 9.388e-01, 9.426e-01, 9.462e-01, 9.496e-01,\n",
       "       9.527e-01, 9.557e-01])"
      ]
     },
     "execution_count": 68,
     "metadata": {},
     "output_type": "execute_result"
    }
   ],
   "source": [
    "dt, n, p = mod.split_in_0D()\n",
    "delta = p[:,2]\n",
    "# norm_delta = utils.normalise(np.log10(p[:,2]), np.log10(1e-100), np.log10(1e-100+0.999))\n",
    "# norm_dens = utils.normalise(mod.)\n",
    "# norm_delta\n",
    "\n",
    "delta\n",
    "\n"
   ]
  },
  {
   "cell_type": "code",
   "execution_count": 69,
   "metadata": {},
   "outputs": [
    {
     "name": "stdout",
     "output_type": "stream",
     "text": [
      "/lhome/silkem/CHEM/Output_nov2022/20211014_gridC_Mdot5e-6_v15_T_eps/models/model_2022-12-24h10-24-32/csfrac_smooth.out\n"
     ]
    },
    {
     "data": {
      "image/png": "[encoded data removed]",
      "text/plain": [
       "<Figure size 960x720 with 1 Axes>"
      ]
     },
     "metadata": {},
     "output_type": "display_data"
    }
   ],
   "source": [
    "i = 2898-1\n",
    "mod = ds.CSEmod(inputdirs[i])\n",
    "print(inputdirs[i])\n",
    "\n",
    "\n",
    "a=0.5\n",
    "\n",
    "y = 0.01\n",
    "# plt.loglog(mod.get_time(), mod.get_delta()+y, '-x', label = 'delta + '+str(y), alpha = a)\n",
    "y = 1.e-100\n",
    "plt.loglog(mod.get_time(), mod.get_delta()+y, '-x', label = 'delta + '+str(y), alpha = a)\n",
    "plt.loglog(mod.get_time(), mod.get_delta(), '-x', label = 'delta', alpha = a)\n",
    "# plt.loglog(mod.get_time(), mod.get_temp(), '-x', label = 'temp')\n",
    "# plt.loglog(mod.get_time(), mod.get_dens(), '-x', label = 'dens')\n",
    "# plt.loglog(mod.get_time(), mod.get_Av(), '-x', label = 'Av')\n",
    "# plt.loglog(mod.get_time(), mod.get_abs_spec('CO' ),label = 'CO')\n",
    "# plt.loglog(mod.get_time(), mod.get_abs_spec('H2O'),label = 'H2O')\n",
    "# plt.loglog(mod.get_time(), mod.get_abs_spec('CH4'),label = 'CH4')\n",
    "# plt.loglog(mod.get_time(), mod.n[:,-2],label = 'e-')\n",
    "\n",
    "plt.legend()\n",
    "plt.show()"
   ]
  },
  {
   "cell_type": "markdown",
   "metadata": {},
   "source": [
    "### Testing the training"
   ]
  },
  {
   "cell_type": "code",
   "execution_count": 83,
   "metadata": {},
   "outputs": [
    {
     "name": "stdout",
     "output_type": "stream",
     "text": [
      "Dataset:\n",
      "------------------------------\n",
      "total # of samples: 100\n",
      "# training samples: 70\n",
      "#  testing samples: 30\n",
      "             ratio: 0.3\n"
     ]
    }
   ],
   "source": [
    "## Set up PyTorch \n",
    "cuda   = False\n",
    "DEVICE = torch.device(\"cuda\" if cuda else \"cpu\")\n",
    "\n",
    "kwargs = {'num_workers': 1, 'pin_memory': True} \n",
    "\n",
    "lr = 1.e-3\n",
    "nb_epochs  = 2\n",
    "losstype = 'mse'\n",
    "z_dim = 10\n",
    "dt_fract = 0.2\n",
    "batch_size = 1\n",
    "nb_samples = 100\n",
    "n_dim = 468\n",
    "\n",
    "\n",
    "train, test, data_loader, test_loader = ds.get_data(dt_fract=dt_fract,nb_samples=nb_samples, batch_size=batch_size, kwargs=kwargs)\n",
    "\n",
    "model = nODE.Solver(p_dim=4,z_dim = z_dim, n_dim=n_dim, DEVICE = DEVICE)\n"
   ]
  },
  {
   "cell_type": "code",
   "execution_count": 84,
   "metadata": {},
   "outputs": [
    {
     "name": "stdout",
     "output_type": "stream",
     "text": [
      "Model:         \n",
      "learning rate: 0.001\n",
      "\n",
      ">>> Training model...\n",
      "\n",
      "\n",
      "\n",
      "\n",
      "Epoch 1 complete! \tAverage loss train:  0.03421615317374819 \tAverage loss test:  0.013237423683206944\n",
      "\n",
      "\n",
      "\n",
      "\n",
      "Epoch 2 complete! \tAverage loss train:  0.007917934666507916 \tAverage loss test:  0.0041202322439687555\n",
      "\n",
      " \tDONE!\n"
     ]
    }
   ],
   "source": [
    "norm = {'mse' : 1,\n",
    "        'rel' : 1,\n",
    "        'evo' : 1}\n",
    "\n",
    "fract = {'mse' : 1, \n",
    "         'rel' : 1,\n",
    "         'evo' : 1}\n",
    "\n",
    "\n",
    "## Make loss objects\n",
    "trainloss = Loss(norm, fract)\n",
    "testloss  = Loss(norm, fract)\n",
    "\n",
    "trainloss.set_losstype(losstype)\n",
    "testloss.set_losstype(losstype)\n",
    "\n",
    "import warnings\n",
    "\n",
    "with warnings.catch_warnings():\n",
    "    warnings.filterwarnings(\"error\", category=RuntimeWarning)\n",
    "    try:\n",
    "        opt = tr.train(model, lr, data_loader, test_loader, None, end_epochs = nb_epochs, DEVICE= DEVICE, trainloss=trainloss, testloss=testloss, plot = False, log = True, show = True)\n",
    "    except UserWarning as e:\n",
    "        print(\"Caught:\",e)\n",
    "    \n",
    "\n",
    "\n",
    "# trainloss.change_norm({'mse' :np.mean(trainloss.get_loss('mse')), # type: ignore\n",
    "#                        'rel' :np.mean(trainloss.get_loss('rel')), # type: ignore\n",
    "#                        'evo' :np.mean(trainloss.get_loss('evo'))})   # type: ignore\n",
    "# testloss.change_norm({'mse' :np.mean(testloss.get_loss('mse')), # type: ignore\n",
    "#                       'rel' :np.mean(testloss.get_loss('rel')), # type: ignore\n",
    "#                       'evo' :np.mean(testloss.get_loss('evo'))}) # type: ignore\n",
    "\n",
    "# tr.train(model, lr, data_loader, test_loader,None, end_epochs = nb_epochs, DEVICE= DEVICE, trainloss=trainloss, testloss=testloss, start_epochs=ini_epochs, plot = False, log = True, show = True)\n",
    "\n"
   ]
  },
  {
   "cell_type": "code",
   "execution_count": null,
   "metadata": {},
   "outputs": [],
   "source": [
    "cutoff = 1e-20\n",
    "nmin = np.log10(cutoff)\n",
    "nmax = np.log10(0.85e-1)\n",
    "\n",
    "def unscale(x, min, max):\n",
    "\n",
    "    unscaled = x*np.abs(max-min)+min\n",
    "\n",
    "    return unscaled\n",
    "\n",
    "x = unscale(np.linspace(0,1,100), nmin, nmax)\n",
    "\n",
    "n_un = unscale(n,nmin, nmax)\n",
    "nhat_un = unscale(n_hat,nmin, nmax).detach().numpy()\n",
    "\n",
    "fig = plt.figure(figsize = (8,7))\n",
    "ax1 = fig.add_subplot((111))\n",
    "\n",
    "ms = 3\n",
    "\n",
    "i=-1\n",
    "# specs = ['H2O', 'CO','C2H2', 'C2H', 'HCN', 'CN','OH', 'CH5+', 'SiH+','CH3C5N']\n",
    "# for spec in specs:\n",
    "#     idx = specs_dict[spec]\n",
    "#     ax1.scatter(n_un[0][i][idx],nhat_un[0][i][idx],marker = 'o', alpha = alpha, label = spec) # type: ignore\n",
    "ax1.scatter(n_un[0][i],nhat_un[0][i],marker = 'o',   label = 'all species') # type: ignore\n",
    "\n",
    "ax1.plot(x,x, '--k', lw = 0.5)\n",
    "\n",
    "ax1.set_xlabel('real log abundance')\n",
    "ax1.set_ylabel('predicted log abundance')\n",
    "\n",
    "ax1.grid(True, linestyle = '--', linewidth = 0.2)\n",
    "\n",
    "ax1.legend(fontsize = 10)"
   ]
  }
 ],
 "metadata": {
  "kernelspec": {
   "display_name": "mace",
   "language": "python",
   "name": "python3"
  },
  "language_info": {
   "codemirror_mode": {
    "name": "ipython",
    "version": 3
   },
   "file_extension": ".py",
   "mimetype": "text/x-python",
   "name": "python",
   "nbconvert_exporter": "python",
   "pygments_lexer": "ipython3",
   "version": "3.10.13"
  }
 },
 "nbformat": 4,
 "nbformat_minor": 2
}
