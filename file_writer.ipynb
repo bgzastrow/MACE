{
 "cells": [
  {
   "cell_type": "code",
   "execution_count": null,
   "metadata": {},
   "outputs": [],
   "source": [
    "import numpy as np"
   ]
  },
  {
   "cell_type": "markdown",
   "metadata": {},
   "source": [
    "### Random inputs for mace"
   ]
  },
  {
   "cell_type": "code",
   "execution_count": 1,
   "metadata": {},
   "outputs": [],
   "source": [
    "def uniform(max, min, round):\n",
    "    return np.round((max - min) * np.random.rand() + min,round)\n",
    "\n",
    "def write_random_input_file(x):\n",
    "\n",
    "    lr    = 10.0**uniform(-5, -3,3)\n",
    "    z_dim = np.random.choice([8, 10, 16, 32])\n",
    "\n",
    "    mse1 = 10.0**uniform(3, 7, 0) \n",
    "    evo1 = 10.0**uniform(0, np.log10(0.1*mse1), 0) \n",
    "    idn1 = 10.0**uniform(2, 5, 0)  \n",
    "    mse2 = 10.0**uniform(0, 2, 0)\n",
    "\n",
    "    with open(f\"/STER/silkem/MACE/input/xmas2023/in_file_{x}.txt\", \"w\") as file:\n",
    "        file.write(f\"\"\"\n",
    "## input model\n",
    "\n",
    "lr          = {lr}\n",
    "tot_epochs  = 100\n",
    "nb_epochs   = 61\n",
    "losstype    = mse_idn_evo\n",
    "z_dim       = {z_dim}\n",
    "nb_samples  = 18000\n",
    "\n",
    "## loss fractions\n",
    "\n",
    "mse1 = {mse1}\n",
    "rel1 = 0 \n",
    "evo1 = {evo1}\n",
    "idn1 = {idn1}\n",
    "\n",
    "mse2 = {mse2}\n",
    "rel2 = 0\n",
    "evo2 = 1\n",
    "idn2 = 1\n",
    "\"\"\"\n",
    ")"
   ]
  },
  {
   "cell_type": "code",
   "execution_count": 29,
   "metadata": {},
   "outputs": [],
   "source": [
    "def write_job_script(x):\n",
    "    with open(f\"/STER/silkem/mace_jobs/slurm_job_mace{x}\", \"w\") as file:\n",
    "        file.write(f\"\"\"#!/bin/bash\n",
    "#SBATCH --job-name='mace-xmas-training-{x}'\n",
    "#SBATCH --account=silkem\n",
    "#SBATCH --time=4-00:00:00\n",
    "#SBATCH --output=./mace_logs/out/xmas{x}_%A.out\n",
    "#SBATCH --error=./mace_logs/error/xmas{x}_%A.err\n",
    "#SBATCH --nodes=1\n",
    "#SBATCH --ntasks-per-node=1\n",
    "#SBATCH --cpus-per-task=2\n",
    "#SBATCH --mem-per-cpu=16G\n",
    "#SBATCH --hint=multithread\n",
    "#SBATCH --partition=long\n",
    "#SBATCH --array=1-150\n",
    "\n",
    "\n",
    "python /STER/silkem/MACE/src/mace/CSE_0D/mace_training_routine.py xmas2023/in_file_{x}\n",
    "\"\"\"\n",
    ")"
   ]
  },
  {
   "cell_type": "code",
   "execution_count": 59,
   "metadata": {},
   "outputs": [],
   "source": [
    "write_random_input_file(101)"
   ]
  },
  {
   "cell_type": "code",
   "execution_count": 5,
   "metadata": {},
   "outputs": [],
   "source": [
    "i=1\n",
    "while i < 3:\n",
    "    write_job_script(100+i)\n",
    "    write_random_input_file(100+i)\n",
    "    i += 1"
   ]
  },
  {
   "cell_type": "code",
   "execution_count": 30,
   "metadata": {},
   "outputs": [],
   "source": [
    "i=1\n",
    "while i <= 150:\n",
    "    write_random_input_file(i)\n",
    "    write_job_script(i)\n",
    "    i += 1"
   ]
  },
  {
   "cell_type": "markdown",
   "metadata": {},
   "source": [
    "### Inputs grid mace"
   ]
  },
  {
   "cell_type": "code",
   "execution_count": 1,
   "metadata": {},
   "outputs": [
    {
     "name": "stdout",
     "output_type": "stream",
     "text": [
      "1\n",
      "2\n",
      "3\n",
      "4\n",
      "5\n",
      "6\n",
      "7\n",
      "8\n",
      "9\n",
      "10\n",
      "11\n",
      "12\n",
      "13\n",
      "14\n",
      "15\n",
      "16\n",
      "17\n",
      "18\n",
      "19\n",
      "20\n",
      "21\n",
      "22\n",
      "23\n",
      "24\n",
      "25\n",
      "26\n",
      "27\n",
      "28\n",
      "29\n",
      "30\n",
      "31\n",
      "32\n",
      "33\n",
      "34\n",
      "35\n",
      "36\n",
      "37\n",
      "38\n",
      "39\n",
      "40\n",
      "41\n",
      "42\n",
      "43\n",
      "44\n",
      "45\n",
      "46\n",
      "47\n",
      "48\n"
     ]
    }
   ],
   "source": [
    "\n",
    "\n",
    "lrs      = [1.e-6,1.e-5,1.e-4,1.e-3]\n",
    "z_dims   = [8,16,32]\n",
    "nb_evols = [11,22,33,44]\n",
    "\n",
    "x=1\n",
    "\n",
    "for lr in lrs:\n",
    "    for z_dim in z_dims:\n",
    "        for nb_evol in nb_evols:\n",
    "            with open(f\"/STER/silkem/MACE/input/grid/in_grid_{x}.txt\", \"w\") as file:\n",
    "                file.write(f\"\"\"\n",
    "## input model\n",
    "\n",
    "lr          = {lr}\n",
    "ini_epochs  = 5\n",
    "tot_epochs  = 100\n",
    "nb_epochs   = 51\n",
    "losstype    = mse_idn\n",
    "z_dim       = {z_dim}\n",
    "nb_samples  = 10000\n",
    "nb_evol     = {nb_evol}\n",
    "\n",
    "nb_hidden = 1\n",
    "ae_type = simple\n",
    "\n",
    "## loss fractions\n",
    "\n",
    "mse1 = 1\n",
    "rel1 = 0 \n",
    "evo1 = 0\n",
    "idn1 = 1\n",
    "\n",
    "mse2 = 100\n",
    "rel2 = 0\n",
    "evo2 = 0\n",
    "idn2 = 100\n",
    "\"\"\"\n",
    ")\n",
    "                print(x)\n",
    "                x+=1"
   ]
  }
 ],
 "metadata": {
  "kernelspec": {
   "display_name": "magritte",
   "language": "python",
   "name": "python3"
  },
  "language_info": {
   "codemirror_mode": {
    "name": "ipython",
    "version": 3
   },
   "file_extension": ".py",
   "mimetype": "text/x-python",
   "name": "python",
   "nbconvert_exporter": "python",
   "pygments_lexer": "ipython3",
   "version": "3.10.13"
  }
 },
 "nbformat": 4,
 "nbformat_minor": 2
}
