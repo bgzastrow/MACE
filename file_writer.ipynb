{
 "cells": [
  {
   "cell_type": "code",
   "execution_count": 1,
   "metadata": {},
   "outputs": [],
   "source": [
    "import numpy as np\n",
    "\n",
    "def uniform(max, min, round):\n",
    "    return np.round((max - min) * np.random.rand() + min,round)\n",
    "\n",
    "def write_random_input_file(x):\n",
    "\n",
    "    lr    = 10.0**uniform(-5, -3,3)\n",
    "    z_dim = np.random.choice([8, 10, 16, 32])\n",
    "\n",
    "    mse1 = 10.0**uniform(3, 7, 0) \n",
    "    evo1 = 10.0**uniform(0, np.log10(0.1*mse1), 0) \n",
    "    idn1 = 10.0**uniform(2, 5, 0)  \n",
    "    mse2 = 10.0**uniform(0, 2, 0)\n",
    "\n",
    "    with open(f\"/STER/silkem/MACE/input/xmas2023/in_file_{x}.txt\", \"w\") as file:\n",
    "        file.write(f\"\"\"\n",
    "## input model\n",
    "\n",
    "lr          = {lr}\n",
    "tot_epochs  = 100\n",
    "nb_epochs   = 61\n",
    "losstype    = mse_idn_evo\n",
    "z_dim       = {z_dim}\n",
    "nb_samples  = 18000\n",
    "\n",
    "## loss fractions\n",
    "\n",
    "mse1 = {mse1}\n",
    "rel1 = 0 \n",
    "evo1 = {evo1}\n",
    "idn1 = {idn1}\n",
    "\n",
    "mse2 = {mse2}\n",
    "rel2 = 0\n",
    "evo2 = 1\n",
    "idn2 = 1\n",
    "\"\"\"\n",
    ")"
   ]
  },
  {
   "cell_type": "code",
   "execution_count": 29,
   "metadata": {},
   "outputs": [],
   "source": [
    "def write_job_script(x):\n",
    "    with open(f\"/STER/silkem/mace_jobs/slurm_job_mace{x}\", \"w\") as file:\n",
    "        file.write(f\"\"\"#!/bin/bash\n",
    "#SBATCH --job-name='mace-xmas-training-{x}'\n",
    "#SBATCH --account=silkem\n",
    "#SBATCH --time=4-00:00:00\n",
    "#SBATCH --output=./mace_logs/out/xmas{x}_%A.out\n",
    "#SBATCH --error=./mace_logs/error/xmas{x}_%A.err\n",
    "#SBATCH --nodes=1\n",
    "#SBATCH --ntasks-per-node=1\n",
    "#SBATCH --cpus-per-task=2\n",
    "#SBATCH --mem-per-cpu=16G\n",
    "#SBATCH --hint=multithread\n",
    "#SBATCH --partition=long\n",
    "#SBATCH --array=1-150\n",
    "\n",
    "\n",
    "python /STER/silkem/MACE/src/mace/CSE_0D/mace_training_routine.py xmas2023/in_file_{x}\n",
    "\"\"\"\n",
    ")"
   ]
  },
  {
   "cell_type": "code",
   "execution_count": 10,
   "metadata": {},
   "outputs": [],
   "source": [
    "write_job_script(10)"
   ]
  },
  {
   "cell_type": "code",
   "execution_count": 59,
   "metadata": {},
   "outputs": [],
   "source": [
    "write_random_input_file(101)"
   ]
  },
  {
   "cell_type": "code",
   "execution_count": 5,
   "metadata": {},
   "outputs": [],
   "source": [
    "i=1\n",
    "while i < 3:\n",
    "    write_job_script(100+i)\n",
    "    write_random_input_file(100+i)\n",
    "    i += 1"
   ]
  },
  {
   "cell_type": "code",
   "execution_count": 30,
   "metadata": {},
   "outputs": [],
   "source": [
    "i=1\n",
    "while i <= 150:\n",
    "    write_random_input_file(i)\n",
    "    write_job_script(i)\n",
    "    i += 1"
   ]
  },
  {
   "cell_type": "markdown",
   "metadata": {},
   "source": [
    "### random testing"
   ]
  },
  {
   "cell_type": "code",
   "execution_count": 40,
   "metadata": {},
   "outputs": [
    {
     "data": {
      "text/plain": [
       "79"
      ]
     },
     "execution_count": 40,
     "metadata": {},
     "output_type": "execute_result"
    }
   ],
   "source": [
    "import random\n",
    "random.randint(1, 150)"
   ]
  },
  {
   "cell_type": "code",
   "execution_count": 52,
   "metadata": {},
   "outputs": [
    {
     "data": {
      "text/plain": [
       "'2024_1_3'"
      ]
     },
     "execution_count": 52,
     "metadata": {},
     "output_type": "execute_result"
    }
   ],
   "source": [
    "import datetime             as dt\n",
    "str(dt.datetime.now().day), str(dt.datetime.now().month), str(dt.datetime.now().year)\n",
    "\n",
    "\n",
    "now = dt.datetime.now()\n",
    "name = f\"{now.year}_{now.month}_{now.day}\"\n",
    "name"
   ]
  },
  {
   "cell_type": "code",
   "execution_count": 56,
   "metadata": {},
   "outputs": [
    {
     "data": {
      "text/plain": [
       "'20240103_150457'"
      ]
     },
     "execution_count": 56,
     "metadata": {},
     "output_type": "execute_result"
    }
   ],
   "source": [
    "dt.datetime.now().strftime(\"%Y%m%d\")+'_'+dt.datetime.now().strftime(\"%H%M%S\")"
   ]
  }
 ],
 "metadata": {
  "kernelspec": {
   "display_name": "magritte",
   "language": "python",
   "name": "python3"
  },
  "language_info": {
   "codemirror_mode": {
    "name": "ipython",
    "version": 3
   },
   "file_extension": ".py",
   "mimetype": "text/x-python",
   "name": "python",
   "nbconvert_exporter": "python",
   "pygments_lexer": "ipython3",
   "version": "3.10.13"
  }
 },
 "nbformat": 4,
 "nbformat_minor": 2
}
