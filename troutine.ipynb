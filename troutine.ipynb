{
 "cells": [
  {
   "cell_type": "markdown",
   "metadata": {},
   "source": [
    "# Training a MACE model\n"
   ]
  },
  {
   "cell_type": "markdown",
   "metadata": {},
   "source": [
    "In this notebook, the flow of training a MACE model is detailed step by step.\n",
    "\n"
   ]
  },
  {
   "cell_type": "code",
   "execution_count": 1,
   "metadata": {},
   "outputs": [],
   "source": [
    "import matplotlib.pyplot    as plt\n",
    "import numpy                as np\n",
    "import torch\n",
    "from time                   import time\n",
    "import datetime             as dt\n",
    "from tqdm                   import tqdm\n",
    "\n",
    "from pathlib import Path\n",
    "import sys\n",
    "\n",
    "parentpath = str(Path().cwd())[:-16]\n",
    "\n",
    "sys.path.append(parentpath)\n",
    "\n",
    "import src.mace.CSE_0D.dataset  as ds\n",
    "import src.mace.train           as train\n",
    "import src.mace.test            as test\n",
    "import src.mace.mace            as mace\n",
    "from src.mace.loss              import Loss\n",
    "import src.mace.loss            as loss\n",
    "import src.mace.utils           as utils\n",
    "from src.mace.input             import Input\n",
    "\n",
    "specs_dict, idx_specs = utils.get_specs()\n",
    "\n",
    "%reload_ext autoreload\n",
    "%autoreload 2"
   ]
  },
  {
   "cell_type": "markdown",
   "metadata": {},
   "source": [
    "## Setting up\n"
   ]
  }
 ],
 "metadata": {
  "kernelspec": {
   "display_name": "mace",
   "language": "python",
   "name": "python3"
  },
  "language_info": {
   "codemirror_mode": {
    "name": "ipython",
    "version": 3
   },
   "file_extension": ".py",
   "mimetype": "text/x-python",
   "name": "python",
   "nbconvert_exporter": "python",
   "pygments_lexer": "ipython3",
   "version": "3.10.13"
  }
 },
 "nbformat": 4,
 "nbformat_minor": 2
}
